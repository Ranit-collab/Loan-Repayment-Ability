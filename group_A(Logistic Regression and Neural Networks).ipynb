{
  "nbformat": 4,
  "nbformat_minor": 5,
  "metadata": {
    "colab": {
      "name": "Merge_Modeling_group_A.ipynb",
      "provenance": [],
      "collapsed_sections": []
    },
    "kernelspec": {
      "display_name": "Python 3",
      "language": "python",
      "name": "python3"
    },
    "language_info": {
      "codemirror_mode": {
        "name": "ipython",
        "version": 3
      },
      "file_extension": ".py",
      "mimetype": "text/x-python",
      "name": "python",
      "nbconvert_exporter": "python",
      "pygments_lexer": "ipython3",
      "version": "3.8.8"
    }
  },
  "cells": [
    {
      "cell_type": "markdown",
      "metadata": {
        "id": "1geyFogrit86"
      },
      "source": [
        "# ***Modeling-***"
      ],
      "id": "1geyFogrit86"
    },
    {
      "cell_type": "code",
      "metadata": {
        "id": "932cd2d8"
      },
      "source": [
        "# Import Libraries\n",
        "import pandas as pd\n",
        "import numpy as np\n",
        "import seaborn as sns\n",
        "import matplotlib.pyplot as plt"
      ],
      "id": "932cd2d8",
      "execution_count": 55,
      "outputs": []
    },
    {
      "cell_type": "code",
      "metadata": {
        "id": "bef24f59"
      },
      "source": [
        "import warnings\n",
        "warnings.filterwarnings(\"ignore\")"
      ],
      "id": "bef24f59",
      "execution_count": 56,
      "outputs": []
    },
    {
      "cell_type": "code",
      "metadata": {
        "id": "989ab4bd"
      },
      "source": [
        "accepted_data = pd.read_csv(\"final_cleaned_accepted.csv\")"
      ],
      "id": "989ab4bd",
      "execution_count": 57,
      "outputs": []
    },
    {
      "cell_type": "code",
      "metadata": {
        "colab": {
          "base_uri": "https://localhost:8080/"
        },
        "id": "c475dca6",
        "outputId": "8175e245-da78-4991-e5dc-55131861a986"
      },
      "source": [
        "# printing the shape of the data (rows,columns)\n",
        "accepted_data.shape"
      ],
      "id": "c475dca6",
      "execution_count": 58,
      "outputs": [
        {
          "output_type": "execute_result",
          "data": {
            "text/plain": [
              "(2011813, 92)"
            ]
          },
          "metadata": {
            "tags": []
          },
          "execution_count": 58
        }
      ]
    },
    {
      "cell_type": "code",
      "metadata": {
        "colab": {
          "base_uri": "https://localhost:8080/",
          "height": 240
        },
        "id": "b3652893",
        "outputId": "00ddb13b-9f21-4bda-c4a2-27a62d3daef4"
      },
      "source": [
        "# print the first five rows of the DataFrame\n",
        "accepted_data.head()"
      ],
      "id": "b3652893",
      "execution_count": 59,
      "outputs": [
        {
          "output_type": "execute_result",
          "data": {
            "text/html": [
              "<div>\n",
              "<style scoped>\n",
              "    .dataframe tbody tr th:only-of-type {\n",
              "        vertical-align: middle;\n",
              "    }\n",
              "\n",
              "    .dataframe tbody tr th {\n",
              "        vertical-align: top;\n",
              "    }\n",
              "\n",
              "    .dataframe thead th {\n",
              "        text-align: right;\n",
              "    }\n",
              "</style>\n",
              "<table border=\"1\" class=\"dataframe\">\n",
              "  <thead>\n",
              "    <tr style=\"text-align: right;\">\n",
              "      <th></th>\n",
              "      <th>Unnamed: 0</th>\n",
              "      <th>loan_amnt</th>\n",
              "      <th>funded_amnt</th>\n",
              "      <th>funded_amnt_inv</th>\n",
              "      <th>term</th>\n",
              "      <th>int_rate</th>\n",
              "      <th>installment</th>\n",
              "      <th>grade</th>\n",
              "      <th>emp_length</th>\n",
              "      <th>home_ownership</th>\n",
              "      <th>annual_inc</th>\n",
              "      <th>verification_status</th>\n",
              "      <th>loan_status</th>\n",
              "      <th>pymnt_plan</th>\n",
              "      <th>dti</th>\n",
              "      <th>deling_2yrs</th>\n",
              "      <th>fico_range_low</th>\n",
              "      <th>fico_range_high</th>\n",
              "      <th>ing_last_6mths</th>\n",
              "      <th>open_acc</th>\n",
              "      <th>pub_rec</th>\n",
              "      <th>revol_bal</th>\n",
              "      <th>revol_util</th>\n",
              "      <th>total_acc</th>\n",
              "      <th>initial_list_status</th>\n",
              "      <th>out_prncp</th>\n",
              "      <th>out_prncp_inv</th>\n",
              "      <th>total_pymnt</th>\n",
              "      <th>total_pymnt_inv</th>\n",
              "      <th>total_rec_prncp</th>\n",
              "      <th>total_rec_int</th>\n",
              "      <th>total_rec_late_fee</th>\n",
              "      <th>recoveries</th>\n",
              "      <th>collection_recovery_fee</th>\n",
              "      <th>last_pymnt_amnt</th>\n",
              "      <th>last_fico_range_high</th>\n",
              "      <th>last_fico_range_low</th>\n",
              "      <th>collections_12_mths_ex_med</th>\n",
              "      <th>policy_code</th>\n",
              "      <th>application_type</th>\n",
              "      <th>acc_now_dealing</th>\n",
              "      <th>tot_coll_amt</th>\n",
              "      <th>tot_cur_bal</th>\n",
              "      <th>total_bal_il</th>\n",
              "      <th>max_bal_bc</th>\n",
              "      <th>total_rev_hi_lim</th>\n",
              "      <th>acc_open_past_24mths</th>\n",
              "      <th>avg_cur_bal</th>\n",
              "      <th>bc_open_to_buy</th>\n",
              "      <th>bc_util</th>\n",
              "      <th>chargeoff_within_12_mths</th>\n",
              "      <th>delinq_amnt</th>\n",
              "      <th>mo_sin_old_il_acct</th>\n",
              "      <th>mo_sin_old_rev_tl_op</th>\n",
              "      <th>mo_sin_rcnt_rev_tl_op</th>\n",
              "      <th>mo_sin_rcnt_tl</th>\n",
              "      <th>mort_acc</th>\n",
              "      <th>mths_since_recent_bc</th>\n",
              "      <th>mths_since_recent_inq</th>\n",
              "      <th>num_accts_ever_120_pd</th>\n",
              "      <th>num_actv_bc_tl</th>\n",
              "      <th>num_actv_rev_tl</th>\n",
              "      <th>num_bc_sats</th>\n",
              "      <th>num_bc_tl</th>\n",
              "      <th>num_il_tl</th>\n",
              "      <th>num_op_rev_tl</th>\n",
              "      <th>num_rev_accts</th>\n",
              "      <th>num_rev_tl_bal_gt_0</th>\n",
              "      <th>num_sats</th>\n",
              "      <th>num_tl_120dpd_2m</th>\n",
              "      <th>num_tl_30dpd</th>\n",
              "      <th>num_tl_90g_dpd_24m</th>\n",
              "      <th>num_tl_op_past_12m</th>\n",
              "      <th>pct_tl_nvr_dlq</th>\n",
              "      <th>percent_bc_gt_75</th>\n",
              "      <th>pub_rec_bankruptcies</th>\n",
              "      <th>tax_liens</th>\n",
              "      <th>tot_hi_cred_lim</th>\n",
              "      <th>total_bal_ex_mort</th>\n",
              "      <th>total_bc_limit</th>\n",
              "      <th>total_il_high_credit_limit</th>\n",
              "      <th>hardship_flag</th>\n",
              "      <th>disbursement_method</th>\n",
              "      <th>debt_settlement_flag</th>\n",
              "      <th>earliest_cr_line_year</th>\n",
              "      <th>earliest_cr_line_month</th>\n",
              "      <th>issue_d_year</th>\n",
              "      <th>issue_d_month</th>\n",
              "      <th>last_credit_pull_d_year</th>\n",
              "      <th>last_credit_pull_d_month</th>\n",
              "      <th>last_pymnt_d_year</th>\n",
              "      <th>last_pymnt_d_month</th>\n",
              "    </tr>\n",
              "  </thead>\n",
              "  <tbody>\n",
              "    <tr>\n",
              "      <th>0</th>\n",
              "      <td>0</td>\n",
              "      <td>3600.0</td>\n",
              "      <td>3600.0</td>\n",
              "      <td>3600.0</td>\n",
              "      <td>36</td>\n",
              "      <td>13.99</td>\n",
              "      <td>123.03</td>\n",
              "      <td>C</td>\n",
              "      <td>10</td>\n",
              "      <td>1</td>\n",
              "      <td>55000.0</td>\n",
              "      <td>0</td>\n",
              "      <td>5</td>\n",
              "      <td>0</td>\n",
              "      <td>5.91</td>\n",
              "      <td>0.0</td>\n",
              "      <td>675.0</td>\n",
              "      <td>679.0</td>\n",
              "      <td>1.0</td>\n",
              "      <td>7.0</td>\n",
              "      <td>0.0</td>\n",
              "      <td>2765.0</td>\n",
              "      <td>29.7</td>\n",
              "      <td>13.0</td>\n",
              "      <td>1</td>\n",
              "      <td>0.00</td>\n",
              "      <td>0.00</td>\n",
              "      <td>4421.723917</td>\n",
              "      <td>4421.72</td>\n",
              "      <td>3600.00</td>\n",
              "      <td>821.72</td>\n",
              "      <td>0.0</td>\n",
              "      <td>0.0</td>\n",
              "      <td>0.0</td>\n",
              "      <td>122.67</td>\n",
              "      <td>564.0</td>\n",
              "      <td>560.0</td>\n",
              "      <td>0.0</td>\n",
              "      <td>1.0</td>\n",
              "      <td>0</td>\n",
              "      <td>0.0</td>\n",
              "      <td>722.0</td>\n",
              "      <td>144904.0</td>\n",
              "      <td>4981.0</td>\n",
              "      <td>722.0</td>\n",
              "      <td>9300.0</td>\n",
              "      <td>4.0</td>\n",
              "      <td>20701.0</td>\n",
              "      <td>1506.0</td>\n",
              "      <td>37.2</td>\n",
              "      <td>0.0</td>\n",
              "      <td>0.0</td>\n",
              "      <td>148.0</td>\n",
              "      <td>128.0</td>\n",
              "      <td>3.0</td>\n",
              "      <td>3.0</td>\n",
              "      <td>1.0</td>\n",
              "      <td>4.0</td>\n",
              "      <td>4.000000</td>\n",
              "      <td>2.0</td>\n",
              "      <td>2.0</td>\n",
              "      <td>4.0</td>\n",
              "      <td>2.0</td>\n",
              "      <td>5.0</td>\n",
              "      <td>3.0</td>\n",
              "      <td>4.0</td>\n",
              "      <td>9.0</td>\n",
              "      <td>4.0</td>\n",
              "      <td>7.0</td>\n",
              "      <td>0.0</td>\n",
              "      <td>0.0</td>\n",
              "      <td>0.0</td>\n",
              "      <td>3.0</td>\n",
              "      <td>76.9</td>\n",
              "      <td>0.0</td>\n",
              "      <td>0.0</td>\n",
              "      <td>0.0</td>\n",
              "      <td>178050.0</td>\n",
              "      <td>7746.0</td>\n",
              "      <td>2400.0</td>\n",
              "      <td>13734.0</td>\n",
              "      <td>0</td>\n",
              "      <td>0</td>\n",
              "      <td>0</td>\n",
              "      <td>2003</td>\n",
              "      <td>8</td>\n",
              "      <td>2015</td>\n",
              "      <td>12</td>\n",
              "      <td>2019</td>\n",
              "      <td>3</td>\n",
              "      <td>2019</td>\n",
              "      <td>1</td>\n",
              "    </tr>\n",
              "    <tr>\n",
              "      <th>1</th>\n",
              "      <td>1</td>\n",
              "      <td>24700.0</td>\n",
              "      <td>24700.0</td>\n",
              "      <td>24700.0</td>\n",
              "      <td>36</td>\n",
              "      <td>11.99</td>\n",
              "      <td>820.28</td>\n",
              "      <td>C</td>\n",
              "      <td>10</td>\n",
              "      <td>1</td>\n",
              "      <td>65000.0</td>\n",
              "      <td>0</td>\n",
              "      <td>5</td>\n",
              "      <td>0</td>\n",
              "      <td>16.06</td>\n",
              "      <td>1.0</td>\n",
              "      <td>715.0</td>\n",
              "      <td>719.0</td>\n",
              "      <td>4.0</td>\n",
              "      <td>22.0</td>\n",
              "      <td>0.0</td>\n",
              "      <td>21470.0</td>\n",
              "      <td>19.2</td>\n",
              "      <td>38.0</td>\n",
              "      <td>1</td>\n",
              "      <td>0.00</td>\n",
              "      <td>0.00</td>\n",
              "      <td>25679.660000</td>\n",
              "      <td>25679.66</td>\n",
              "      <td>24700.00</td>\n",
              "      <td>979.66</td>\n",
              "      <td>0.0</td>\n",
              "      <td>0.0</td>\n",
              "      <td>0.0</td>\n",
              "      <td>926.35</td>\n",
              "      <td>699.0</td>\n",
              "      <td>695.0</td>\n",
              "      <td>0.0</td>\n",
              "      <td>1.0</td>\n",
              "      <td>0</td>\n",
              "      <td>0.0</td>\n",
              "      <td>0.0</td>\n",
              "      <td>204396.0</td>\n",
              "      <td>18005.0</td>\n",
              "      <td>6472.0</td>\n",
              "      <td>111800.0</td>\n",
              "      <td>4.0</td>\n",
              "      <td>9733.0</td>\n",
              "      <td>57830.0</td>\n",
              "      <td>27.1</td>\n",
              "      <td>0.0</td>\n",
              "      <td>0.0</td>\n",
              "      <td>113.0</td>\n",
              "      <td>192.0</td>\n",
              "      <td>2.0</td>\n",
              "      <td>2.0</td>\n",
              "      <td>4.0</td>\n",
              "      <td>2.0</td>\n",
              "      <td>0.000000</td>\n",
              "      <td>0.0</td>\n",
              "      <td>5.0</td>\n",
              "      <td>5.0</td>\n",
              "      <td>13.0</td>\n",
              "      <td>17.0</td>\n",
              "      <td>6.0</td>\n",
              "      <td>20.0</td>\n",
              "      <td>27.0</td>\n",
              "      <td>5.0</td>\n",
              "      <td>22.0</td>\n",
              "      <td>0.0</td>\n",
              "      <td>0.0</td>\n",
              "      <td>0.0</td>\n",
              "      <td>2.0</td>\n",
              "      <td>97.4</td>\n",
              "      <td>7.7</td>\n",
              "      <td>0.0</td>\n",
              "      <td>0.0</td>\n",
              "      <td>314017.0</td>\n",
              "      <td>39475.0</td>\n",
              "      <td>79300.0</td>\n",
              "      <td>24667.0</td>\n",
              "      <td>0</td>\n",
              "      <td>0</td>\n",
              "      <td>0</td>\n",
              "      <td>1999</td>\n",
              "      <td>12</td>\n",
              "      <td>2015</td>\n",
              "      <td>12</td>\n",
              "      <td>2019</td>\n",
              "      <td>3</td>\n",
              "      <td>2016</td>\n",
              "      <td>6</td>\n",
              "    </tr>\n",
              "    <tr>\n",
              "      <th>2</th>\n",
              "      <td>2</td>\n",
              "      <td>20000.0</td>\n",
              "      <td>20000.0</td>\n",
              "      <td>20000.0</td>\n",
              "      <td>60</td>\n",
              "      <td>10.78</td>\n",
              "      <td>432.66</td>\n",
              "      <td>B</td>\n",
              "      <td>10</td>\n",
              "      <td>1</td>\n",
              "      <td>63000.0</td>\n",
              "      <td>0</td>\n",
              "      <td>5</td>\n",
              "      <td>0</td>\n",
              "      <td>10.78</td>\n",
              "      <td>0.0</td>\n",
              "      <td>695.0</td>\n",
              "      <td>699.0</td>\n",
              "      <td>0.0</td>\n",
              "      <td>6.0</td>\n",
              "      <td>0.0</td>\n",
              "      <td>7869.0</td>\n",
              "      <td>56.2</td>\n",
              "      <td>18.0</td>\n",
              "      <td>1</td>\n",
              "      <td>0.00</td>\n",
              "      <td>0.00</td>\n",
              "      <td>22705.924294</td>\n",
              "      <td>22705.92</td>\n",
              "      <td>20000.00</td>\n",
              "      <td>2705.92</td>\n",
              "      <td>0.0</td>\n",
              "      <td>0.0</td>\n",
              "      <td>0.0</td>\n",
              "      <td>15813.30</td>\n",
              "      <td>704.0</td>\n",
              "      <td>700.0</td>\n",
              "      <td>0.0</td>\n",
              "      <td>1.0</td>\n",
              "      <td>1</td>\n",
              "      <td>0.0</td>\n",
              "      <td>0.0</td>\n",
              "      <td>189699.0</td>\n",
              "      <td>10827.0</td>\n",
              "      <td>2081.0</td>\n",
              "      <td>14000.0</td>\n",
              "      <td>6.0</td>\n",
              "      <td>31617.0</td>\n",
              "      <td>2737.0</td>\n",
              "      <td>55.9</td>\n",
              "      <td>0.0</td>\n",
              "      <td>0.0</td>\n",
              "      <td>125.0</td>\n",
              "      <td>184.0</td>\n",
              "      <td>14.0</td>\n",
              "      <td>14.0</td>\n",
              "      <td>5.0</td>\n",
              "      <td>101.0</td>\n",
              "      <td>10.000000</td>\n",
              "      <td>0.0</td>\n",
              "      <td>2.0</td>\n",
              "      <td>3.0</td>\n",
              "      <td>2.0</td>\n",
              "      <td>4.0</td>\n",
              "      <td>6.0</td>\n",
              "      <td>4.0</td>\n",
              "      <td>7.0</td>\n",
              "      <td>3.0</td>\n",
              "      <td>6.0</td>\n",
              "      <td>0.0</td>\n",
              "      <td>0.0</td>\n",
              "      <td>0.0</td>\n",
              "      <td>0.0</td>\n",
              "      <td>100.0</td>\n",
              "      <td>50.0</td>\n",
              "      <td>0.0</td>\n",
              "      <td>0.0</td>\n",
              "      <td>218418.0</td>\n",
              "      <td>18696.0</td>\n",
              "      <td>6200.0</td>\n",
              "      <td>14877.0</td>\n",
              "      <td>0</td>\n",
              "      <td>0</td>\n",
              "      <td>0</td>\n",
              "      <td>2000</td>\n",
              "      <td>8</td>\n",
              "      <td>2015</td>\n",
              "      <td>12</td>\n",
              "      <td>2019</td>\n",
              "      <td>3</td>\n",
              "      <td>2017</td>\n",
              "      <td>6</td>\n",
              "    </tr>\n",
              "    <tr>\n",
              "      <th>3</th>\n",
              "      <td>3</td>\n",
              "      <td>35000.0</td>\n",
              "      <td>35000.0</td>\n",
              "      <td>35000.0</td>\n",
              "      <td>60</td>\n",
              "      <td>14.85</td>\n",
              "      <td>829.90</td>\n",
              "      <td>C</td>\n",
              "      <td>10</td>\n",
              "      <td>1</td>\n",
              "      <td>110000.0</td>\n",
              "      <td>1</td>\n",
              "      <td>1</td>\n",
              "      <td>0</td>\n",
              "      <td>17.06</td>\n",
              "      <td>0.0</td>\n",
              "      <td>785.0</td>\n",
              "      <td>789.0</td>\n",
              "      <td>0.0</td>\n",
              "      <td>13.0</td>\n",
              "      <td>0.0</td>\n",
              "      <td>7802.0</td>\n",
              "      <td>11.6</td>\n",
              "      <td>17.0</td>\n",
              "      <td>1</td>\n",
              "      <td>15897.65</td>\n",
              "      <td>15897.65</td>\n",
              "      <td>31464.010000</td>\n",
              "      <td>31464.01</td>\n",
              "      <td>19102.35</td>\n",
              "      <td>12361.66</td>\n",
              "      <td>0.0</td>\n",
              "      <td>0.0</td>\n",
              "      <td>0.0</td>\n",
              "      <td>829.90</td>\n",
              "      <td>679.0</td>\n",
              "      <td>675.0</td>\n",
              "      <td>0.0</td>\n",
              "      <td>1.0</td>\n",
              "      <td>0</td>\n",
              "      <td>0.0</td>\n",
              "      <td>0.0</td>\n",
              "      <td>301500.0</td>\n",
              "      <td>12609.0</td>\n",
              "      <td>6987.0</td>\n",
              "      <td>67300.0</td>\n",
              "      <td>2.0</td>\n",
              "      <td>23192.0</td>\n",
              "      <td>54962.0</td>\n",
              "      <td>12.1</td>\n",
              "      <td>0.0</td>\n",
              "      <td>0.0</td>\n",
              "      <td>36.0</td>\n",
              "      <td>87.0</td>\n",
              "      <td>2.0</td>\n",
              "      <td>2.0</td>\n",
              "      <td>1.0</td>\n",
              "      <td>2.0</td>\n",
              "      <td>7.084087</td>\n",
              "      <td>0.0</td>\n",
              "      <td>4.0</td>\n",
              "      <td>5.0</td>\n",
              "      <td>8.0</td>\n",
              "      <td>10.0</td>\n",
              "      <td>2.0</td>\n",
              "      <td>10.0</td>\n",
              "      <td>13.0</td>\n",
              "      <td>5.0</td>\n",
              "      <td>13.0</td>\n",
              "      <td>0.0</td>\n",
              "      <td>0.0</td>\n",
              "      <td>0.0</td>\n",
              "      <td>1.0</td>\n",
              "      <td>100.0</td>\n",
              "      <td>0.0</td>\n",
              "      <td>0.0</td>\n",
              "      <td>0.0</td>\n",
              "      <td>381215.0</td>\n",
              "      <td>52226.0</td>\n",
              "      <td>62500.0</td>\n",
              "      <td>18000.0</td>\n",
              "      <td>0</td>\n",
              "      <td>0</td>\n",
              "      <td>0</td>\n",
              "      <td>2008</td>\n",
              "      <td>9</td>\n",
              "      <td>2015</td>\n",
              "      <td>12</td>\n",
              "      <td>2019</td>\n",
              "      <td>3</td>\n",
              "      <td>2019</td>\n",
              "      <td>2</td>\n",
              "    </tr>\n",
              "    <tr>\n",
              "      <th>4</th>\n",
              "      <td>4</td>\n",
              "      <td>10400.0</td>\n",
              "      <td>10400.0</td>\n",
              "      <td>10400.0</td>\n",
              "      <td>60</td>\n",
              "      <td>22.45</td>\n",
              "      <td>289.91</td>\n",
              "      <td>F</td>\n",
              "      <td>3</td>\n",
              "      <td>1</td>\n",
              "      <td>104433.0</td>\n",
              "      <td>1</td>\n",
              "      <td>5</td>\n",
              "      <td>0</td>\n",
              "      <td>25.37</td>\n",
              "      <td>1.0</td>\n",
              "      <td>695.0</td>\n",
              "      <td>699.0</td>\n",
              "      <td>3.0</td>\n",
              "      <td>12.0</td>\n",
              "      <td>0.0</td>\n",
              "      <td>21929.0</td>\n",
              "      <td>64.5</td>\n",
              "      <td>35.0</td>\n",
              "      <td>1</td>\n",
              "      <td>0.00</td>\n",
              "      <td>0.00</td>\n",
              "      <td>11740.500000</td>\n",
              "      <td>11740.50</td>\n",
              "      <td>10400.00</td>\n",
              "      <td>1340.50</td>\n",
              "      <td>0.0</td>\n",
              "      <td>0.0</td>\n",
              "      <td>0.0</td>\n",
              "      <td>10128.96</td>\n",
              "      <td>704.0</td>\n",
              "      <td>700.0</td>\n",
              "      <td>0.0</td>\n",
              "      <td>1.0</td>\n",
              "      <td>0</td>\n",
              "      <td>0.0</td>\n",
              "      <td>0.0</td>\n",
              "      <td>331730.0</td>\n",
              "      <td>73839.0</td>\n",
              "      <td>9702.0</td>\n",
              "      <td>34000.0</td>\n",
              "      <td>10.0</td>\n",
              "      <td>27644.0</td>\n",
              "      <td>4567.0</td>\n",
              "      <td>77.5</td>\n",
              "      <td>0.0</td>\n",
              "      <td>0.0</td>\n",
              "      <td>128.0</td>\n",
              "      <td>210.0</td>\n",
              "      <td>4.0</td>\n",
              "      <td>4.0</td>\n",
              "      <td>6.0</td>\n",
              "      <td>4.0</td>\n",
              "      <td>1.000000</td>\n",
              "      <td>0.0</td>\n",
              "      <td>4.0</td>\n",
              "      <td>6.0</td>\n",
              "      <td>5.0</td>\n",
              "      <td>9.0</td>\n",
              "      <td>10.0</td>\n",
              "      <td>7.0</td>\n",
              "      <td>19.0</td>\n",
              "      <td>6.0</td>\n",
              "      <td>12.0</td>\n",
              "      <td>0.0</td>\n",
              "      <td>0.0</td>\n",
              "      <td>0.0</td>\n",
              "      <td>4.0</td>\n",
              "      <td>96.6</td>\n",
              "      <td>60.0</td>\n",
              "      <td>0.0</td>\n",
              "      <td>0.0</td>\n",
              "      <td>439570.0</td>\n",
              "      <td>95768.0</td>\n",
              "      <td>20300.0</td>\n",
              "      <td>88097.0</td>\n",
              "      <td>0</td>\n",
              "      <td>0</td>\n",
              "      <td>0</td>\n",
              "      <td>1998</td>\n",
              "      <td>6</td>\n",
              "      <td>2015</td>\n",
              "      <td>12</td>\n",
              "      <td>2018</td>\n",
              "      <td>3</td>\n",
              "      <td>2016</td>\n",
              "      <td>7</td>\n",
              "    </tr>\n",
              "  </tbody>\n",
              "</table>\n",
              "</div>"
            ],
            "text/plain": [
              "   Unnamed: 0  loan_amnt  funded_amnt  funded_amnt_inv  term  int_rate  \\\n",
              "0           0     3600.0       3600.0           3600.0    36     13.99   \n",
              "1           1    24700.0      24700.0          24700.0    36     11.99   \n",
              "2           2    20000.0      20000.0          20000.0    60     10.78   \n",
              "3           3    35000.0      35000.0          35000.0    60     14.85   \n",
              "4           4    10400.0      10400.0          10400.0    60     22.45   \n",
              "\n",
              "   installment grade  emp_length  home_ownership  annual_inc  \\\n",
              "0       123.03     C          10               1     55000.0   \n",
              "1       820.28     C          10               1     65000.0   \n",
              "2       432.66     B          10               1     63000.0   \n",
              "3       829.90     C          10               1    110000.0   \n",
              "4       289.91     F           3               1    104433.0   \n",
              "\n",
              "   verification_status  loan_status  pymnt_plan    dti  deling_2yrs  \\\n",
              "0                    0            5           0   5.91          0.0   \n",
              "1                    0            5           0  16.06          1.0   \n",
              "2                    0            5           0  10.78          0.0   \n",
              "3                    1            1           0  17.06          0.0   \n",
              "4                    1            5           0  25.37          1.0   \n",
              "\n",
              "   fico_range_low  fico_range_high  ing_last_6mths  open_acc  pub_rec  \\\n",
              "0           675.0            679.0             1.0       7.0      0.0   \n",
              "1           715.0            719.0             4.0      22.0      0.0   \n",
              "2           695.0            699.0             0.0       6.0      0.0   \n",
              "3           785.0            789.0             0.0      13.0      0.0   \n",
              "4           695.0            699.0             3.0      12.0      0.0   \n",
              "\n",
              "   revol_bal  revol_util  total_acc  initial_list_status  out_prncp  \\\n",
              "0     2765.0        29.7       13.0                    1       0.00   \n",
              "1    21470.0        19.2       38.0                    1       0.00   \n",
              "2     7869.0        56.2       18.0                    1       0.00   \n",
              "3     7802.0        11.6       17.0                    1   15897.65   \n",
              "4    21929.0        64.5       35.0                    1       0.00   \n",
              "\n",
              "   out_prncp_inv   total_pymnt  total_pymnt_inv  total_rec_prncp  \\\n",
              "0           0.00   4421.723917          4421.72          3600.00   \n",
              "1           0.00  25679.660000         25679.66         24700.00   \n",
              "2           0.00  22705.924294         22705.92         20000.00   \n",
              "3       15897.65  31464.010000         31464.01         19102.35   \n",
              "4           0.00  11740.500000         11740.50         10400.00   \n",
              "\n",
              "   total_rec_int  total_rec_late_fee  recoveries  collection_recovery_fee  \\\n",
              "0         821.72                 0.0         0.0                      0.0   \n",
              "1         979.66                 0.0         0.0                      0.0   \n",
              "2        2705.92                 0.0         0.0                      0.0   \n",
              "3       12361.66                 0.0         0.0                      0.0   \n",
              "4        1340.50                 0.0         0.0                      0.0   \n",
              "\n",
              "   last_pymnt_amnt  last_fico_range_high  last_fico_range_low  \\\n",
              "0           122.67                 564.0                560.0   \n",
              "1           926.35                 699.0                695.0   \n",
              "2         15813.30                 704.0                700.0   \n",
              "3           829.90                 679.0                675.0   \n",
              "4         10128.96                 704.0                700.0   \n",
              "\n",
              "   collections_12_mths_ex_med  policy_code  application_type  acc_now_dealing  \\\n",
              "0                         0.0          1.0                 0              0.0   \n",
              "1                         0.0          1.0                 0              0.0   \n",
              "2                         0.0          1.0                 1              0.0   \n",
              "3                         0.0          1.0                 0              0.0   \n",
              "4                         0.0          1.0                 0              0.0   \n",
              "\n",
              "   tot_coll_amt  tot_cur_bal  total_bal_il  max_bal_bc  total_rev_hi_lim  \\\n",
              "0         722.0     144904.0        4981.0       722.0            9300.0   \n",
              "1           0.0     204396.0       18005.0      6472.0          111800.0   \n",
              "2           0.0     189699.0       10827.0      2081.0           14000.0   \n",
              "3           0.0     301500.0       12609.0      6987.0           67300.0   \n",
              "4           0.0     331730.0       73839.0      9702.0           34000.0   \n",
              "\n",
              "   acc_open_past_24mths  avg_cur_bal  bc_open_to_buy  bc_util  \\\n",
              "0                   4.0      20701.0          1506.0     37.2   \n",
              "1                   4.0       9733.0         57830.0     27.1   \n",
              "2                   6.0      31617.0          2737.0     55.9   \n",
              "3                   2.0      23192.0         54962.0     12.1   \n",
              "4                  10.0      27644.0          4567.0     77.5   \n",
              "\n",
              "   chargeoff_within_12_mths  delinq_amnt  mo_sin_old_il_acct  \\\n",
              "0                       0.0          0.0               148.0   \n",
              "1                       0.0          0.0               113.0   \n",
              "2                       0.0          0.0               125.0   \n",
              "3                       0.0          0.0                36.0   \n",
              "4                       0.0          0.0               128.0   \n",
              "\n",
              "   mo_sin_old_rev_tl_op  mo_sin_rcnt_rev_tl_op  mo_sin_rcnt_tl  mort_acc  \\\n",
              "0                 128.0                    3.0             3.0       1.0   \n",
              "1                 192.0                    2.0             2.0       4.0   \n",
              "2                 184.0                   14.0            14.0       5.0   \n",
              "3                  87.0                    2.0             2.0       1.0   \n",
              "4                 210.0                    4.0             4.0       6.0   \n",
              "\n",
              "   mths_since_recent_bc  mths_since_recent_inq  num_accts_ever_120_pd  \\\n",
              "0                   4.0               4.000000                    2.0   \n",
              "1                   2.0               0.000000                    0.0   \n",
              "2                 101.0              10.000000                    0.0   \n",
              "3                   2.0               7.084087                    0.0   \n",
              "4                   4.0               1.000000                    0.0   \n",
              "\n",
              "   num_actv_bc_tl  num_actv_rev_tl  num_bc_sats  num_bc_tl  num_il_tl  \\\n",
              "0             2.0              4.0          2.0        5.0        3.0   \n",
              "1             5.0              5.0         13.0       17.0        6.0   \n",
              "2             2.0              3.0          2.0        4.0        6.0   \n",
              "3             4.0              5.0          8.0       10.0        2.0   \n",
              "4             4.0              6.0          5.0        9.0       10.0   \n",
              "\n",
              "   num_op_rev_tl  num_rev_accts  num_rev_tl_bal_gt_0  num_sats  \\\n",
              "0            4.0            9.0                  4.0       7.0   \n",
              "1           20.0           27.0                  5.0      22.0   \n",
              "2            4.0            7.0                  3.0       6.0   \n",
              "3           10.0           13.0                  5.0      13.0   \n",
              "4            7.0           19.0                  6.0      12.0   \n",
              "\n",
              "   num_tl_120dpd_2m  num_tl_30dpd  num_tl_90g_dpd_24m  num_tl_op_past_12m  \\\n",
              "0               0.0           0.0                 0.0                 3.0   \n",
              "1               0.0           0.0                 0.0                 2.0   \n",
              "2               0.0           0.0                 0.0                 0.0   \n",
              "3               0.0           0.0                 0.0                 1.0   \n",
              "4               0.0           0.0                 0.0                 4.0   \n",
              "\n",
              "   pct_tl_nvr_dlq  percent_bc_gt_75  pub_rec_bankruptcies  tax_liens  \\\n",
              "0            76.9               0.0                   0.0        0.0   \n",
              "1            97.4               7.7                   0.0        0.0   \n",
              "2           100.0              50.0                   0.0        0.0   \n",
              "3           100.0               0.0                   0.0        0.0   \n",
              "4            96.6              60.0                   0.0        0.0   \n",
              "\n",
              "   tot_hi_cred_lim  total_bal_ex_mort  total_bc_limit  \\\n",
              "0         178050.0             7746.0          2400.0   \n",
              "1         314017.0            39475.0         79300.0   \n",
              "2         218418.0            18696.0          6200.0   \n",
              "3         381215.0            52226.0         62500.0   \n",
              "4         439570.0            95768.0         20300.0   \n",
              "\n",
              "   total_il_high_credit_limit  hardship_flag  disbursement_method  \\\n",
              "0                     13734.0              0                    0   \n",
              "1                     24667.0              0                    0   \n",
              "2                     14877.0              0                    0   \n",
              "3                     18000.0              0                    0   \n",
              "4                     88097.0              0                    0   \n",
              "\n",
              "   debt_settlement_flag  earliest_cr_line_year  earliest_cr_line_month  \\\n",
              "0                     0                   2003                       8   \n",
              "1                     0                   1999                      12   \n",
              "2                     0                   2000                       8   \n",
              "3                     0                   2008                       9   \n",
              "4                     0                   1998                       6   \n",
              "\n",
              "   issue_d_year  issue_d_month  last_credit_pull_d_year  \\\n",
              "0          2015             12                     2019   \n",
              "1          2015             12                     2019   \n",
              "2          2015             12                     2019   \n",
              "3          2015             12                     2019   \n",
              "4          2015             12                     2018   \n",
              "\n",
              "   last_credit_pull_d_month  last_pymnt_d_year  last_pymnt_d_month  \n",
              "0                         3               2019                   1  \n",
              "1                         3               2016                   6  \n",
              "2                         3               2017                   6  \n",
              "3                         3               2019                   2  \n",
              "4                         3               2016                   7  "
            ]
          },
          "metadata": {
            "tags": []
          },
          "execution_count": 59
        }
      ]
    },
    {
      "cell_type": "code",
      "metadata": {
        "colab": {
          "base_uri": "https://localhost:8080/"
        },
        "id": "edc7e407",
        "outputId": "8e80e954-b797-4281-c13c-0ce902b6fdd2"
      },
      "source": [
        "# print the list of columns in the dataset to find the name of the prediction target\n",
        "accepted_data.info()"
      ],
      "id": "edc7e407",
      "execution_count": 60,
      "outputs": [
        {
          "output_type": "stream",
          "text": [
            "<class 'pandas.core.frame.DataFrame'>\n",
            "RangeIndex: 2011813 entries, 0 to 2011812\n",
            "Data columns (total 92 columns):\n",
            " #   Column                      Dtype  \n",
            "---  ------                      -----  \n",
            " 0   Unnamed: 0                  int64  \n",
            " 1   loan_amnt                   float64\n",
            " 2   funded_amnt                 float64\n",
            " 3   funded_amnt_inv             float64\n",
            " 4   term                        int64  \n",
            " 5   int_rate                    float64\n",
            " 6   installment                 float64\n",
            " 7   grade                       object \n",
            " 8   emp_length                  int64  \n",
            " 9   home_ownership              int64  \n",
            " 10  annual_inc                  float64\n",
            " 11  verification_status         int64  \n",
            " 12  loan_status                 int64  \n",
            " 13  pymnt_plan                  int64  \n",
            " 14  dti                         float64\n",
            " 15  deling_2yrs                 float64\n",
            " 16  fico_range_low              float64\n",
            " 17  fico_range_high             float64\n",
            " 18  ing_last_6mths              float64\n",
            " 19  open_acc                    float64\n",
            " 20  pub_rec                     float64\n",
            " 21  revol_bal                   float64\n",
            " 22  revol_util                  float64\n",
            " 23  total_acc                   float64\n",
            " 24  initial_list_status         int64  \n",
            " 25  out_prncp                   float64\n",
            " 26  out_prncp_inv               float64\n",
            " 27  total_pymnt                 float64\n",
            " 28  total_pymnt_inv             float64\n",
            " 29  total_rec_prncp             float64\n",
            " 30  total_rec_int               float64\n",
            " 31  total_rec_late_fee          float64\n",
            " 32  recoveries                  float64\n",
            " 33  collection_recovery_fee     float64\n",
            " 34  last_pymnt_amnt             float64\n",
            " 35  last_fico_range_high        float64\n",
            " 36  last_fico_range_low         float64\n",
            " 37  collections_12_mths_ex_med  float64\n",
            " 38  policy_code                 float64\n",
            " 39  application_type            int64  \n",
            " 40  acc_now_dealing             float64\n",
            " 41  tot_coll_amt                float64\n",
            " 42  tot_cur_bal                 float64\n",
            " 43  total_bal_il                float64\n",
            " 44  max_bal_bc                  float64\n",
            " 45  total_rev_hi_lim            float64\n",
            " 46  acc_open_past_24mths        float64\n",
            " 47  avg_cur_bal                 float64\n",
            " 48  bc_open_to_buy              float64\n",
            " 49  bc_util                     float64\n",
            " 50  chargeoff_within_12_mths    float64\n",
            " 51  delinq_amnt                 float64\n",
            " 52  mo_sin_old_il_acct          float64\n",
            " 53  mo_sin_old_rev_tl_op        float64\n",
            " 54  mo_sin_rcnt_rev_tl_op       float64\n",
            " 55  mo_sin_rcnt_tl              float64\n",
            " 56  mort_acc                    float64\n",
            " 57  mths_since_recent_bc        float64\n",
            " 58  mths_since_recent_inq       float64\n",
            " 59  num_accts_ever_120_pd       float64\n",
            " 60  num_actv_bc_tl              float64\n",
            " 61  num_actv_rev_tl             float64\n",
            " 62  num_bc_sats                 float64\n",
            " 63  num_bc_tl                   float64\n",
            " 64  num_il_tl                   float64\n",
            " 65  num_op_rev_tl               float64\n",
            " 66  num_rev_accts               float64\n",
            " 67  num_rev_tl_bal_gt_0         float64\n",
            " 68  num_sats                    float64\n",
            " 69  num_tl_120dpd_2m            float64\n",
            " 70  num_tl_30dpd                float64\n",
            " 71  num_tl_90g_dpd_24m          float64\n",
            " 72  num_tl_op_past_12m          float64\n",
            " 73  pct_tl_nvr_dlq              float64\n",
            " 74  percent_bc_gt_75            float64\n",
            " 75  pub_rec_bankruptcies        float64\n",
            " 76  tax_liens                   float64\n",
            " 77  tot_hi_cred_lim             float64\n",
            " 78  total_bal_ex_mort           float64\n",
            " 79  total_bc_limit              float64\n",
            " 80  total_il_high_credit_limit  float64\n",
            " 81  hardship_flag               int64  \n",
            " 82  disbursement_method         int64  \n",
            " 83  debt_settlement_flag        int64  \n",
            " 84  earliest_cr_line_year       int64  \n",
            " 85  earliest_cr_line_month      int64  \n",
            " 86  issue_d_year                int64  \n",
            " 87  issue_d_month               int64  \n",
            " 88  last_credit_pull_d_year     int64  \n",
            " 89  last_credit_pull_d_month    int64  \n",
            " 90  last_pymnt_d_year           int64  \n",
            " 91  last_pymnt_d_month          int64  \n",
            "dtypes: float64(71), int64(20), object(1)\n",
            "memory usage: 1.4+ GB\n"
          ],
          "name": "stdout"
        }
      ]
    },
    {
      "cell_type": "markdown",
      "metadata": {
        "id": "d9fefcc6"
      },
      "source": [
        "# Selecting The Prediction Target"
      ],
      "id": "d9fefcc6"
    },
    {
      "cell_type": "markdown",
      "metadata": {
        "id": "1a8ec784"
      },
      "source": [
        "We can pull out a variable with dot-notation. This single column is stored in a Series, which is broadly like a DataFrame with only a single column of data.\n",
        "\n",
        "We'll use the dot notation to select the column we want to predict, which is called the prediction target. By convention, the prediction target is called y"
      ],
      "id": "1a8ec784"
    },
    {
      "cell_type": "code",
      "metadata": {
        "colab": {
          "base_uri": "https://localhost:8080/"
        },
        "id": "b87045b0",
        "outputId": "82549634-e4b3-40af-c51b-9c012e951f67"
      },
      "source": [
        "accepted_data[\"grade\"].value_counts()"
      ],
      "id": "b87045b0",
      "execution_count": 61,
      "outputs": [
        {
          "output_type": "execute_result",
          "data": {
            "text/plain": [
              "B    590586\n",
              "C    578558\n",
              "A    394953\n",
              "D    283424\n",
              "E    117537\n",
              "F     36166\n",
              "G     10589\n",
              "Name: grade, dtype: int64"
            ]
          },
          "metadata": {
            "tags": []
          },
          "execution_count": 61
        }
      ]
    },
    {
      "cell_type": "code",
      "metadata": {
        "id": "a5618194"
      },
      "source": [
        "accepted_data['grade'] = accepted_data['grade'].map({'A':1,'B':2,'C':3,'D':4,'E':5,'F':6,'G':7})"
      ],
      "id": "a5618194",
      "execution_count": 62,
      "outputs": []
    },
    {
      "cell_type": "code",
      "metadata": {
        "id": "4cf70560"
      },
      "source": [
        "y = accepted_data['grade']"
      ],
      "id": "4cf70560",
      "execution_count": 63,
      "outputs": []
    },
    {
      "cell_type": "code",
      "metadata": {
        "colab": {
          "base_uri": "https://localhost:8080/"
        },
        "id": "c720e721",
        "outputId": "635075f5-d31f-456b-9cbf-7254eafaf42d"
      },
      "source": [
        "y"
      ],
      "id": "c720e721",
      "execution_count": 64,
      "outputs": [
        {
          "output_type": "execute_result",
          "data": {
            "text/plain": [
              "0          3\n",
              "1          3\n",
              "2          2\n",
              "3          3\n",
              "4          6\n",
              "          ..\n",
              "2011808    2\n",
              "2011809    2\n",
              "2011810    2\n",
              "2011811    3\n",
              "2011812    3\n",
              "Name: grade, Length: 2011813, dtype: int64"
            ]
          },
          "metadata": {
            "tags": []
          },
          "execution_count": 64
        }
      ]
    },
    {
      "cell_type": "markdown",
      "metadata": {
        "id": "6f7d2507"
      },
      "source": [
        "# Choosing \"Features\""
      ],
      "id": "6f7d2507"
    },
    {
      "cell_type": "markdown",
      "metadata": {
        "id": "99b2cef8"
      },
      "source": [
        "\n",
        "Now we will create a DataFrame called X holding the predictive features.\n",
        "\n",
        "Since we want only some columns from the original data, we'll first create a list with the names of the columns we want in X.\n",
        "\n",
        "The columns that are inputted into our model (and later used to make predictions) are called \"features.\" In our case, those would be the columns used to determine the grade. \n",
        "\n",
        "We select multiple features by providing a list of column names inside brackets."
      ],
      "id": "99b2cef8"
    },
    {
      "cell_type": "code",
      "metadata": {
        "id": "7b18d6f9"
      },
      "source": [
        "# Creating the list of features below\n",
        "feature_names = ['funded_amnt_inv','int_rate','emp_length', 'annual_inc', 'pymnt_plan', 'dti', 'deling_2yrs', 'fico_range_low', 'ing_last_6mths', 'open_acc', 'pub_rec', 'revol_bal', 'revol_util', 'total_acc', 'initial_list_status', 'total_rec_late_fee', 'last_pymnt_amnt', 'last_fico_range_high', 'last_fico_range_low', 'collections_12_mths_ex_med', 'policy_code', 'application_type', 'acc_now_dealing', 'tot_coll_amt', 'tot_cur_bal', 'total_bal_il', 'max_bal_bc', 'issue_d_month', 'earliest_cr_line_month', 'earliest_cr_line_year', 'last_pymnt_d_month','last_credit_pull_d_month', 'last_credit_pull_d_year']"
      ],
      "id": "7b18d6f9",
      "execution_count": 65,
      "outputs": []
    },
    {
      "cell_type": "markdown",
      "metadata": {
        "id": "09f48c1a"
      },
      "source": [
        "By convention, this data is called X."
      ],
      "id": "09f48c1a"
    },
    {
      "cell_type": "code",
      "metadata": {
        "id": "03efd204"
      },
      "source": [
        "# Select data corresponding to features in feature_names\n",
        "X = accepted_data[feature_names]"
      ],
      "id": "03efd204",
      "execution_count": 66,
      "outputs": []
    },
    {
      "cell_type": "code",
      "metadata": {
        "colab": {
          "base_uri": "https://localhost:8080/"
        },
        "id": "84ad4ecd",
        "outputId": "002c0f3a-2b45-4624-fa2a-b0da4a792172"
      },
      "source": [
        "# printing the shape of the data (rows,columns)\n",
        "X.shape"
      ],
      "id": "84ad4ecd",
      "execution_count": 67,
      "outputs": [
        {
          "output_type": "execute_result",
          "data": {
            "text/plain": [
              "(2011813, 33)"
            ]
          },
          "metadata": {
            "tags": []
          },
          "execution_count": 67
        }
      ]
    },
    {
      "cell_type": "code",
      "metadata": {
        "colab": {
          "base_uri": "https://localhost:8080/"
        },
        "id": "406354a2",
        "outputId": "9d951bbb-c2bb-4816-b697-629a67d5548c"
      },
      "source": [
        "X.info()"
      ],
      "id": "406354a2",
      "execution_count": 68,
      "outputs": [
        {
          "output_type": "stream",
          "text": [
            "<class 'pandas.core.frame.DataFrame'>\n",
            "RangeIndex: 2011813 entries, 0 to 2011812\n",
            "Data columns (total 33 columns):\n",
            " #   Column                      Dtype  \n",
            "---  ------                      -----  \n",
            " 0   funded_amnt_inv             float64\n",
            " 1   int_rate                    float64\n",
            " 2   emp_length                  int64  \n",
            " 3   annual_inc                  float64\n",
            " 4   pymnt_plan                  int64  \n",
            " 5   dti                         float64\n",
            " 6   deling_2yrs                 float64\n",
            " 7   fico_range_low              float64\n",
            " 8   ing_last_6mths              float64\n",
            " 9   open_acc                    float64\n",
            " 10  pub_rec                     float64\n",
            " 11  revol_bal                   float64\n",
            " 12  revol_util                  float64\n",
            " 13  total_acc                   float64\n",
            " 14  initial_list_status         int64  \n",
            " 15  total_rec_late_fee          float64\n",
            " 16  last_pymnt_amnt             float64\n",
            " 17  last_fico_range_high        float64\n",
            " 18  last_fico_range_low         float64\n",
            " 19  collections_12_mths_ex_med  float64\n",
            " 20  policy_code                 float64\n",
            " 21  application_type            int64  \n",
            " 22  acc_now_dealing             float64\n",
            " 23  tot_coll_amt                float64\n",
            " 24  tot_cur_bal                 float64\n",
            " 25  total_bal_il                float64\n",
            " 26  max_bal_bc                  float64\n",
            " 27  issue_d_month               int64  \n",
            " 28  earliest_cr_line_month      int64  \n",
            " 29  earliest_cr_line_year       int64  \n",
            " 30  last_pymnt_d_month          int64  \n",
            " 31  last_credit_pull_d_month    int64  \n",
            " 32  last_credit_pull_d_year     int64  \n",
            "dtypes: float64(23), int64(10)\n",
            "memory usage: 506.5 MB\n"
          ],
          "name": "stdout"
        }
      ]
    },
    {
      "cell_type": "markdown",
      "metadata": {
        "id": "eda64b23"
      },
      "source": [
        "Let's quickly review the data we'll be using to predict grade using the describe method and the head method, which shows the top few rows."
      ],
      "id": "eda64b23"
    },
    {
      "cell_type": "code",
      "metadata": {
        "colab": {
          "base_uri": "https://localhost:8080/",
          "height": 315
        },
        "id": "5d2a1dfb",
        "outputId": "a4ffbc19-9188-4c34-a2c0-d12e001bc285"
      },
      "source": [
        "X.describe()"
      ],
      "id": "5d2a1dfb",
      "execution_count": 69,
      "outputs": [
        {
          "output_type": "execute_result",
          "data": {
            "text/html": [
              "<div>\n",
              "<style scoped>\n",
              "    .dataframe tbody tr th:only-of-type {\n",
              "        vertical-align: middle;\n",
              "    }\n",
              "\n",
              "    .dataframe tbody tr th {\n",
              "        vertical-align: top;\n",
              "    }\n",
              "\n",
              "    .dataframe thead th {\n",
              "        text-align: right;\n",
              "    }\n",
              "</style>\n",
              "<table border=\"1\" class=\"dataframe\">\n",
              "  <thead>\n",
              "    <tr style=\"text-align: right;\">\n",
              "      <th></th>\n",
              "      <th>funded_amnt_inv</th>\n",
              "      <th>int_rate</th>\n",
              "      <th>emp_length</th>\n",
              "      <th>annual_inc</th>\n",
              "      <th>pymnt_plan</th>\n",
              "      <th>dti</th>\n",
              "      <th>deling_2yrs</th>\n",
              "      <th>fico_range_low</th>\n",
              "      <th>ing_last_6mths</th>\n",
              "      <th>open_acc</th>\n",
              "      <th>pub_rec</th>\n",
              "      <th>revol_bal</th>\n",
              "      <th>revol_util</th>\n",
              "      <th>total_acc</th>\n",
              "      <th>initial_list_status</th>\n",
              "      <th>total_rec_late_fee</th>\n",
              "      <th>last_pymnt_amnt</th>\n",
              "      <th>last_fico_range_high</th>\n",
              "      <th>last_fico_range_low</th>\n",
              "      <th>collections_12_mths_ex_med</th>\n",
              "      <th>policy_code</th>\n",
              "      <th>application_type</th>\n",
              "      <th>acc_now_dealing</th>\n",
              "      <th>tot_coll_amt</th>\n",
              "      <th>tot_cur_bal</th>\n",
              "      <th>total_bal_il</th>\n",
              "      <th>max_bal_bc</th>\n",
              "      <th>issue_d_month</th>\n",
              "      <th>earliest_cr_line_month</th>\n",
              "      <th>earliest_cr_line_year</th>\n",
              "      <th>last_pymnt_d_month</th>\n",
              "      <th>last_credit_pull_d_month</th>\n",
              "      <th>last_credit_pull_d_year</th>\n",
              "    </tr>\n",
              "  </thead>\n",
              "  <tbody>\n",
              "    <tr>\n",
              "      <th>count</th>\n",
              "      <td>2.011813e+06</td>\n",
              "      <td>2.011813e+06</td>\n",
              "      <td>2.011813e+06</td>\n",
              "      <td>2.011813e+06</td>\n",
              "      <td>2.011813e+06</td>\n",
              "      <td>2.011813e+06</td>\n",
              "      <td>2.011813e+06</td>\n",
              "      <td>2.011813e+06</td>\n",
              "      <td>2.011813e+06</td>\n",
              "      <td>2.011813e+06</td>\n",
              "      <td>2.011813e+06</td>\n",
              "      <td>2.011813e+06</td>\n",
              "      <td>2.011813e+06</td>\n",
              "      <td>2.011813e+06</td>\n",
              "      <td>2.011813e+06</td>\n",
              "      <td>2.011813e+06</td>\n",
              "      <td>2.011813e+06</td>\n",
              "      <td>2.011813e+06</td>\n",
              "      <td>2.011813e+06</td>\n",
              "      <td>2.011813e+06</td>\n",
              "      <td>2011813.0</td>\n",
              "      <td>2.011813e+06</td>\n",
              "      <td>2.011813e+06</td>\n",
              "      <td>2.011813e+06</td>\n",
              "      <td>2.011813e+06</td>\n",
              "      <td>2.011813e+06</td>\n",
              "      <td>2.011813e+06</td>\n",
              "      <td>2.011813e+06</td>\n",
              "      <td>2.011813e+06</td>\n",
              "      <td>2.011813e+06</td>\n",
              "      <td>2.011813e+06</td>\n",
              "      <td>2.011813e+06</td>\n",
              "      <td>2.011813e+06</td>\n",
              "    </tr>\n",
              "    <tr>\n",
              "      <th>mean</th>\n",
              "      <td>1.524292e+04</td>\n",
              "      <td>1.303905e+01</td>\n",
              "      <td>6.211924e+00</td>\n",
              "      <td>7.886847e+04</td>\n",
              "      <td>2.713970e-04</td>\n",
              "      <td>1.922425e+01</td>\n",
              "      <td>3.085814e-01</td>\n",
              "      <td>6.989068e+02</td>\n",
              "      <td>5.429675e-01</td>\n",
              "      <td>1.184194e+01</td>\n",
              "      <td>1.998128e-01</td>\n",
              "      <td>1.658321e+04</td>\n",
              "      <td>4.994625e+01</td>\n",
              "      <td>2.464468e+01</td>\n",
              "      <td>7.015970e-01</td>\n",
              "      <td>1.501758e+00</td>\n",
              "      <td>3.497902e+03</td>\n",
              "      <td>6.889226e+02</td>\n",
              "      <td>6.773720e+02</td>\n",
              "      <td>1.718699e-02</td>\n",
              "      <td>1.0</td>\n",
              "      <td>5.569106e-02</td>\n",
              "      <td>4.302587e-03</td>\n",
              "      <td>2.397015e+02</td>\n",
              "      <td>1.447505e+05</td>\n",
              "      <td>3.679309e+04</td>\n",
              "      <td>5.819536e+03</td>\n",
              "      <td>6.765297e+00</td>\n",
              "      <td>6.739750e+00</td>\n",
              "      <td>1.999548e+03</td>\n",
              "      <td>4.998735e+00</td>\n",
              "      <td>4.307000e+00</td>\n",
              "      <td>2.018461e+03</td>\n",
              "    </tr>\n",
              "    <tr>\n",
              "      <th>std</th>\n",
              "      <td>9.218408e+03</td>\n",
              "      <td>4.854674e+00</td>\n",
              "      <td>3.732877e+00</td>\n",
              "      <td>1.088075e+05</td>\n",
              "      <td>1.647190e-02</td>\n",
              "      <td>1.442853e+01</td>\n",
              "      <td>8.673368e-01</td>\n",
              "      <td>3.309607e+01</td>\n",
              "      <td>8.378096e-01</td>\n",
              "      <td>5.632920e+00</td>\n",
              "      <td>5.782347e-01</td>\n",
              "      <td>2.200594e+04</td>\n",
              "      <td>2.449972e+01</td>\n",
              "      <td>1.192246e+01</td>\n",
              "      <td>4.575574e-01</td>\n",
              "      <td>1.182641e+01</td>\n",
              "      <td>6.091766e+03</td>\n",
              "      <td>7.227845e+01</td>\n",
              "      <td>1.085009e+02</td>\n",
              "      <td>1.432625e-01</td>\n",
              "      <td>0.0</td>\n",
              "      <td>2.293242e-01</td>\n",
              "      <td>7.092019e-02</td>\n",
              "      <td>8.858000e+03</td>\n",
              "      <td>1.593913e+05</td>\n",
              "      <td>3.549477e+04</td>\n",
              "      <td>4.467919e+03</td>\n",
              "      <td>3.412506e+00</td>\n",
              "      <td>3.376731e+00</td>\n",
              "      <td>7.767315e+00</td>\n",
              "      <td>3.214543e+00</td>\n",
              "      <td>2.872079e+00</td>\n",
              "      <td>9.520098e-01</td>\n",
              "    </tr>\n",
              "    <tr>\n",
              "      <th>min</th>\n",
              "      <td>7.250000e+02</td>\n",
              "      <td>5.310000e+00</td>\n",
              "      <td>0.000000e+00</td>\n",
              "      <td>0.000000e+00</td>\n",
              "      <td>0.000000e+00</td>\n",
              "      <td>-1.000000e+00</td>\n",
              "      <td>0.000000e+00</td>\n",
              "      <td>6.600000e+02</td>\n",
              "      <td>0.000000e+00</td>\n",
              "      <td>1.000000e+00</td>\n",
              "      <td>0.000000e+00</td>\n",
              "      <td>0.000000e+00</td>\n",
              "      <td>0.000000e+00</td>\n",
              "      <td>3.000000e+00</td>\n",
              "      <td>0.000000e+00</td>\n",
              "      <td>-9.500000e-09</td>\n",
              "      <td>0.000000e+00</td>\n",
              "      <td>0.000000e+00</td>\n",
              "      <td>0.000000e+00</td>\n",
              "      <td>0.000000e+00</td>\n",
              "      <td>1.0</td>\n",
              "      <td>0.000000e+00</td>\n",
              "      <td>0.000000e+00</td>\n",
              "      <td>0.000000e+00</td>\n",
              "      <td>0.000000e+00</td>\n",
              "      <td>0.000000e+00</td>\n",
              "      <td>0.000000e+00</td>\n",
              "      <td>1.000000e+00</td>\n",
              "      <td>1.000000e+00</td>\n",
              "      <td>1.933000e+03</td>\n",
              "      <td>1.000000e+00</td>\n",
              "      <td>1.000000e+00</td>\n",
              "      <td>2.012000e+03</td>\n",
              "    </tr>\n",
              "    <tr>\n",
              "      <th>25%</th>\n",
              "      <td>8.000000e+03</td>\n",
              "      <td>9.440000e+00</td>\n",
              "      <td>3.000000e+00</td>\n",
              "      <td>4.800000e+04</td>\n",
              "      <td>0.000000e+00</td>\n",
              "      <td>1.233000e+01</td>\n",
              "      <td>0.000000e+00</td>\n",
              "      <td>6.750000e+02</td>\n",
              "      <td>0.000000e+00</td>\n",
              "      <td>8.000000e+00</td>\n",
              "      <td>0.000000e+00</td>\n",
              "      <td>6.107000e+03</td>\n",
              "      <td>3.120000e+01</td>\n",
              "      <td>1.600000e+01</td>\n",
              "      <td>0.000000e+00</td>\n",
              "      <td>0.000000e+00</td>\n",
              "      <td>3.140600e+02</td>\n",
              "      <td>6.590000e+02</td>\n",
              "      <td>6.550000e+02</td>\n",
              "      <td>0.000000e+00</td>\n",
              "      <td>1.0</td>\n",
              "      <td>0.000000e+00</td>\n",
              "      <td>0.000000e+00</td>\n",
              "      <td>0.000000e+00</td>\n",
              "      <td>3.086100e+04</td>\n",
              "      <td>1.777000e+04</td>\n",
              "      <td>3.500000e+03</td>\n",
              "      <td>4.000000e+00</td>\n",
              "      <td>4.000000e+00</td>\n",
              "      <td>1.996000e+03</td>\n",
              "      <td>3.000000e+00</td>\n",
              "      <td>3.000000e+00</td>\n",
              "      <td>2.018000e+03</td>\n",
              "    </tr>\n",
              "    <tr>\n",
              "      <th>50%</th>\n",
              "      <td>1.312500e+04</td>\n",
              "      <td>1.262000e+01</td>\n",
              "      <td>7.000000e+00</td>\n",
              "      <td>6.580000e+04</td>\n",
              "      <td>0.000000e+00</td>\n",
              "      <td>1.819000e+01</td>\n",
              "      <td>0.000000e+00</td>\n",
              "      <td>6.900000e+02</td>\n",
              "      <td>0.000000e+00</td>\n",
              "      <td>1.100000e+01</td>\n",
              "      <td>0.000000e+00</td>\n",
              "      <td>1.149600e+04</td>\n",
              "      <td>4.980000e+01</td>\n",
              "      <td>2.300000e+01</td>\n",
              "      <td>1.000000e+00</td>\n",
              "      <td>0.000000e+00</td>\n",
              "      <td>6.090800e+02</td>\n",
              "      <td>6.990000e+02</td>\n",
              "      <td>6.950000e+02</td>\n",
              "      <td>0.000000e+00</td>\n",
              "      <td>1.0</td>\n",
              "      <td>0.000000e+00</td>\n",
              "      <td>0.000000e+00</td>\n",
              "      <td>0.000000e+00</td>\n",
              "      <td>8.323000e+04</td>\n",
              "      <td>3.679309e+04</td>\n",
              "      <td>5.819536e+03</td>\n",
              "      <td>7.000000e+00</td>\n",
              "      <td>7.000000e+00</td>\n",
              "      <td>2.001000e+03</td>\n",
              "      <td>3.000000e+00</td>\n",
              "      <td>3.000000e+00</td>\n",
              "      <td>2.019000e+03</td>\n",
              "    </tr>\n",
              "    <tr>\n",
              "      <th>75%</th>\n",
              "      <td>2.000000e+04</td>\n",
              "      <td>1.588000e+01</td>\n",
              "      <td>1.000000e+01</td>\n",
              "      <td>9.500000e+04</td>\n",
              "      <td>0.000000e+00</td>\n",
              "      <td>2.482000e+01</td>\n",
              "      <td>0.000000e+00</td>\n",
              "      <td>7.150000e+02</td>\n",
              "      <td>1.000000e+00</td>\n",
              "      <td>1.500000e+01</td>\n",
              "      <td>0.000000e+00</td>\n",
              "      <td>2.039800e+04</td>\n",
              "      <td>6.870000e+01</td>\n",
              "      <td>3.100000e+01</td>\n",
              "      <td>1.000000e+00</td>\n",
              "      <td>0.000000e+00</td>\n",
              "      <td>3.900520e+03</td>\n",
              "      <td>7.340000e+02</td>\n",
              "      <td>7.300000e+02</td>\n",
              "      <td>0.000000e+00</td>\n",
              "      <td>1.0</td>\n",
              "      <td>0.000000e+00</td>\n",
              "      <td>0.000000e+00</td>\n",
              "      <td>0.000000e+00</td>\n",
              "      <td>2.160970e+05</td>\n",
              "      <td>3.679309e+04</td>\n",
              "      <td>5.819536e+03</td>\n",
              "      <td>1.000000e+01</td>\n",
              "      <td>1.000000e+01</td>\n",
              "      <td>2.005000e+03</td>\n",
              "      <td>7.000000e+00</td>\n",
              "      <td>4.000000e+00</td>\n",
              "      <td>2.019000e+03</td>\n",
              "    </tr>\n",
              "    <tr>\n",
              "      <th>max</th>\n",
              "      <td>4.000000e+04</td>\n",
              "      <td>3.099000e+01</td>\n",
              "      <td>1.000000e+01</td>\n",
              "      <td>1.100000e+08</td>\n",
              "      <td>1.000000e+00</td>\n",
              "      <td>9.990000e+02</td>\n",
              "      <td>5.800000e+01</td>\n",
              "      <td>8.450000e+02</td>\n",
              "      <td>8.000000e+00</td>\n",
              "      <td>1.010000e+02</td>\n",
              "      <td>8.600000e+01</td>\n",
              "      <td>2.904836e+06</td>\n",
              "      <td>3.666000e+02</td>\n",
              "      <td>1.760000e+02</td>\n",
              "      <td>1.000000e+00</td>\n",
              "      <td>1.484340e+03</td>\n",
              "      <td>4.219205e+04</td>\n",
              "      <td>8.500000e+02</td>\n",
              "      <td>8.450000e+02</td>\n",
              "      <td>2.000000e+01</td>\n",
              "      <td>1.0</td>\n",
              "      <td>1.000000e+00</td>\n",
              "      <td>1.400000e+01</td>\n",
              "      <td>9.152545e+06</td>\n",
              "      <td>9.971659e+06</td>\n",
              "      <td>1.837038e+06</td>\n",
              "      <td>1.170668e+06</td>\n",
              "      <td>1.200000e+01</td>\n",
              "      <td>1.200000e+01</td>\n",
              "      <td>2.015000e+03</td>\n",
              "      <td>1.200000e+01</td>\n",
              "      <td>1.200000e+01</td>\n",
              "      <td>2.019000e+03</td>\n",
              "    </tr>\n",
              "  </tbody>\n",
              "</table>\n",
              "</div>"
            ],
            "text/plain": [
              "       funded_amnt_inv      int_rate    emp_length    annual_inc  \\\n",
              "count     2.011813e+06  2.011813e+06  2.011813e+06  2.011813e+06   \n",
              "mean      1.524292e+04  1.303905e+01  6.211924e+00  7.886847e+04   \n",
              "std       9.218408e+03  4.854674e+00  3.732877e+00  1.088075e+05   \n",
              "min       7.250000e+02  5.310000e+00  0.000000e+00  0.000000e+00   \n",
              "25%       8.000000e+03  9.440000e+00  3.000000e+00  4.800000e+04   \n",
              "50%       1.312500e+04  1.262000e+01  7.000000e+00  6.580000e+04   \n",
              "75%       2.000000e+04  1.588000e+01  1.000000e+01  9.500000e+04   \n",
              "max       4.000000e+04  3.099000e+01  1.000000e+01  1.100000e+08   \n",
              "\n",
              "         pymnt_plan           dti   deling_2yrs  fico_range_low  \\\n",
              "count  2.011813e+06  2.011813e+06  2.011813e+06    2.011813e+06   \n",
              "mean   2.713970e-04  1.922425e+01  3.085814e-01    6.989068e+02   \n",
              "std    1.647190e-02  1.442853e+01  8.673368e-01    3.309607e+01   \n",
              "min    0.000000e+00 -1.000000e+00  0.000000e+00    6.600000e+02   \n",
              "25%    0.000000e+00  1.233000e+01  0.000000e+00    6.750000e+02   \n",
              "50%    0.000000e+00  1.819000e+01  0.000000e+00    6.900000e+02   \n",
              "75%    0.000000e+00  2.482000e+01  0.000000e+00    7.150000e+02   \n",
              "max    1.000000e+00  9.990000e+02  5.800000e+01    8.450000e+02   \n",
              "\n",
              "       ing_last_6mths      open_acc       pub_rec     revol_bal    revol_util  \\\n",
              "count    2.011813e+06  2.011813e+06  2.011813e+06  2.011813e+06  2.011813e+06   \n",
              "mean     5.429675e-01  1.184194e+01  1.998128e-01  1.658321e+04  4.994625e+01   \n",
              "std      8.378096e-01  5.632920e+00  5.782347e-01  2.200594e+04  2.449972e+01   \n",
              "min      0.000000e+00  1.000000e+00  0.000000e+00  0.000000e+00  0.000000e+00   \n",
              "25%      0.000000e+00  8.000000e+00  0.000000e+00  6.107000e+03  3.120000e+01   \n",
              "50%      0.000000e+00  1.100000e+01  0.000000e+00  1.149600e+04  4.980000e+01   \n",
              "75%      1.000000e+00  1.500000e+01  0.000000e+00  2.039800e+04  6.870000e+01   \n",
              "max      8.000000e+00  1.010000e+02  8.600000e+01  2.904836e+06  3.666000e+02   \n",
              "\n",
              "          total_acc  initial_list_status  total_rec_late_fee  last_pymnt_amnt  \\\n",
              "count  2.011813e+06         2.011813e+06        2.011813e+06     2.011813e+06   \n",
              "mean   2.464468e+01         7.015970e-01        1.501758e+00     3.497902e+03   \n",
              "std    1.192246e+01         4.575574e-01        1.182641e+01     6.091766e+03   \n",
              "min    3.000000e+00         0.000000e+00       -9.500000e-09     0.000000e+00   \n",
              "25%    1.600000e+01         0.000000e+00        0.000000e+00     3.140600e+02   \n",
              "50%    2.300000e+01         1.000000e+00        0.000000e+00     6.090800e+02   \n",
              "75%    3.100000e+01         1.000000e+00        0.000000e+00     3.900520e+03   \n",
              "max    1.760000e+02         1.000000e+00        1.484340e+03     4.219205e+04   \n",
              "\n",
              "       last_fico_range_high  last_fico_range_low  collections_12_mths_ex_med  \\\n",
              "count          2.011813e+06         2.011813e+06                2.011813e+06   \n",
              "mean           6.889226e+02         6.773720e+02                1.718699e-02   \n",
              "std            7.227845e+01         1.085009e+02                1.432625e-01   \n",
              "min            0.000000e+00         0.000000e+00                0.000000e+00   \n",
              "25%            6.590000e+02         6.550000e+02                0.000000e+00   \n",
              "50%            6.990000e+02         6.950000e+02                0.000000e+00   \n",
              "75%            7.340000e+02         7.300000e+02                0.000000e+00   \n",
              "max            8.500000e+02         8.450000e+02                2.000000e+01   \n",
              "\n",
              "       policy_code  application_type  acc_now_dealing  tot_coll_amt  \\\n",
              "count    2011813.0      2.011813e+06     2.011813e+06  2.011813e+06   \n",
              "mean           1.0      5.569106e-02     4.302587e-03  2.397015e+02   \n",
              "std            0.0      2.293242e-01     7.092019e-02  8.858000e+03   \n",
              "min            1.0      0.000000e+00     0.000000e+00  0.000000e+00   \n",
              "25%            1.0      0.000000e+00     0.000000e+00  0.000000e+00   \n",
              "50%            1.0      0.000000e+00     0.000000e+00  0.000000e+00   \n",
              "75%            1.0      0.000000e+00     0.000000e+00  0.000000e+00   \n",
              "max            1.0      1.000000e+00     1.400000e+01  9.152545e+06   \n",
              "\n",
              "        tot_cur_bal  total_bal_il    max_bal_bc  issue_d_month  \\\n",
              "count  2.011813e+06  2.011813e+06  2.011813e+06   2.011813e+06   \n",
              "mean   1.447505e+05  3.679309e+04  5.819536e+03   6.765297e+00   \n",
              "std    1.593913e+05  3.549477e+04  4.467919e+03   3.412506e+00   \n",
              "min    0.000000e+00  0.000000e+00  0.000000e+00   1.000000e+00   \n",
              "25%    3.086100e+04  1.777000e+04  3.500000e+03   4.000000e+00   \n",
              "50%    8.323000e+04  3.679309e+04  5.819536e+03   7.000000e+00   \n",
              "75%    2.160970e+05  3.679309e+04  5.819536e+03   1.000000e+01   \n",
              "max    9.971659e+06  1.837038e+06  1.170668e+06   1.200000e+01   \n",
              "\n",
              "       earliest_cr_line_month  earliest_cr_line_year  last_pymnt_d_month  \\\n",
              "count            2.011813e+06           2.011813e+06        2.011813e+06   \n",
              "mean             6.739750e+00           1.999548e+03        4.998735e+00   \n",
              "std              3.376731e+00           7.767315e+00        3.214543e+00   \n",
              "min              1.000000e+00           1.933000e+03        1.000000e+00   \n",
              "25%              4.000000e+00           1.996000e+03        3.000000e+00   \n",
              "50%              7.000000e+00           2.001000e+03        3.000000e+00   \n",
              "75%              1.000000e+01           2.005000e+03        7.000000e+00   \n",
              "max              1.200000e+01           2.015000e+03        1.200000e+01   \n",
              "\n",
              "       last_credit_pull_d_month  last_credit_pull_d_year  \n",
              "count              2.011813e+06             2.011813e+06  \n",
              "mean               4.307000e+00             2.018461e+03  \n",
              "std                2.872079e+00             9.520098e-01  \n",
              "min                1.000000e+00             2.012000e+03  \n",
              "25%                3.000000e+00             2.018000e+03  \n",
              "50%                3.000000e+00             2.019000e+03  \n",
              "75%                4.000000e+00             2.019000e+03  \n",
              "max                1.200000e+01             2.019000e+03  "
            ]
          },
          "metadata": {
            "tags": []
          },
          "execution_count": 69
        }
      ]
    },
    {
      "cell_type": "code",
      "metadata": {
        "colab": {
          "base_uri": "https://localhost:8080/",
          "height": 223
        },
        "id": "5f1ff1c8",
        "outputId": "b0e76ed3-fe8a-453e-b85a-aca9c0358bf8"
      },
      "source": [
        "# print the first five rows of the X DataFrame\n",
        "X.head()"
      ],
      "id": "5f1ff1c8",
      "execution_count": 70,
      "outputs": [
        {
          "output_type": "execute_result",
          "data": {
            "text/html": [
              "<div>\n",
              "<style scoped>\n",
              "    .dataframe tbody tr th:only-of-type {\n",
              "        vertical-align: middle;\n",
              "    }\n",
              "\n",
              "    .dataframe tbody tr th {\n",
              "        vertical-align: top;\n",
              "    }\n",
              "\n",
              "    .dataframe thead th {\n",
              "        text-align: right;\n",
              "    }\n",
              "</style>\n",
              "<table border=\"1\" class=\"dataframe\">\n",
              "  <thead>\n",
              "    <tr style=\"text-align: right;\">\n",
              "      <th></th>\n",
              "      <th>funded_amnt_inv</th>\n",
              "      <th>int_rate</th>\n",
              "      <th>emp_length</th>\n",
              "      <th>annual_inc</th>\n",
              "      <th>pymnt_plan</th>\n",
              "      <th>dti</th>\n",
              "      <th>deling_2yrs</th>\n",
              "      <th>fico_range_low</th>\n",
              "      <th>ing_last_6mths</th>\n",
              "      <th>open_acc</th>\n",
              "      <th>pub_rec</th>\n",
              "      <th>revol_bal</th>\n",
              "      <th>revol_util</th>\n",
              "      <th>total_acc</th>\n",
              "      <th>initial_list_status</th>\n",
              "      <th>total_rec_late_fee</th>\n",
              "      <th>last_pymnt_amnt</th>\n",
              "      <th>last_fico_range_high</th>\n",
              "      <th>last_fico_range_low</th>\n",
              "      <th>collections_12_mths_ex_med</th>\n",
              "      <th>policy_code</th>\n",
              "      <th>application_type</th>\n",
              "      <th>acc_now_dealing</th>\n",
              "      <th>tot_coll_amt</th>\n",
              "      <th>tot_cur_bal</th>\n",
              "      <th>total_bal_il</th>\n",
              "      <th>max_bal_bc</th>\n",
              "      <th>issue_d_month</th>\n",
              "      <th>earliest_cr_line_month</th>\n",
              "      <th>earliest_cr_line_year</th>\n",
              "      <th>last_pymnt_d_month</th>\n",
              "      <th>last_credit_pull_d_month</th>\n",
              "      <th>last_credit_pull_d_year</th>\n",
              "    </tr>\n",
              "  </thead>\n",
              "  <tbody>\n",
              "    <tr>\n",
              "      <th>0</th>\n",
              "      <td>3600.0</td>\n",
              "      <td>13.99</td>\n",
              "      <td>10</td>\n",
              "      <td>55000.0</td>\n",
              "      <td>0</td>\n",
              "      <td>5.91</td>\n",
              "      <td>0.0</td>\n",
              "      <td>675.0</td>\n",
              "      <td>1.0</td>\n",
              "      <td>7.0</td>\n",
              "      <td>0.0</td>\n",
              "      <td>2765.0</td>\n",
              "      <td>29.7</td>\n",
              "      <td>13.0</td>\n",
              "      <td>1</td>\n",
              "      <td>0.0</td>\n",
              "      <td>122.67</td>\n",
              "      <td>564.0</td>\n",
              "      <td>560.0</td>\n",
              "      <td>0.0</td>\n",
              "      <td>1.0</td>\n",
              "      <td>0</td>\n",
              "      <td>0.0</td>\n",
              "      <td>722.0</td>\n",
              "      <td>144904.0</td>\n",
              "      <td>4981.0</td>\n",
              "      <td>722.0</td>\n",
              "      <td>12</td>\n",
              "      <td>8</td>\n",
              "      <td>2003</td>\n",
              "      <td>1</td>\n",
              "      <td>3</td>\n",
              "      <td>2019</td>\n",
              "    </tr>\n",
              "    <tr>\n",
              "      <th>1</th>\n",
              "      <td>24700.0</td>\n",
              "      <td>11.99</td>\n",
              "      <td>10</td>\n",
              "      <td>65000.0</td>\n",
              "      <td>0</td>\n",
              "      <td>16.06</td>\n",
              "      <td>1.0</td>\n",
              "      <td>715.0</td>\n",
              "      <td>4.0</td>\n",
              "      <td>22.0</td>\n",
              "      <td>0.0</td>\n",
              "      <td>21470.0</td>\n",
              "      <td>19.2</td>\n",
              "      <td>38.0</td>\n",
              "      <td>1</td>\n",
              "      <td>0.0</td>\n",
              "      <td>926.35</td>\n",
              "      <td>699.0</td>\n",
              "      <td>695.0</td>\n",
              "      <td>0.0</td>\n",
              "      <td>1.0</td>\n",
              "      <td>0</td>\n",
              "      <td>0.0</td>\n",
              "      <td>0.0</td>\n",
              "      <td>204396.0</td>\n",
              "      <td>18005.0</td>\n",
              "      <td>6472.0</td>\n",
              "      <td>12</td>\n",
              "      <td>12</td>\n",
              "      <td>1999</td>\n",
              "      <td>6</td>\n",
              "      <td>3</td>\n",
              "      <td>2019</td>\n",
              "    </tr>\n",
              "    <tr>\n",
              "      <th>2</th>\n",
              "      <td>20000.0</td>\n",
              "      <td>10.78</td>\n",
              "      <td>10</td>\n",
              "      <td>63000.0</td>\n",
              "      <td>0</td>\n",
              "      <td>10.78</td>\n",
              "      <td>0.0</td>\n",
              "      <td>695.0</td>\n",
              "      <td>0.0</td>\n",
              "      <td>6.0</td>\n",
              "      <td>0.0</td>\n",
              "      <td>7869.0</td>\n",
              "      <td>56.2</td>\n",
              "      <td>18.0</td>\n",
              "      <td>1</td>\n",
              "      <td>0.0</td>\n",
              "      <td>15813.30</td>\n",
              "      <td>704.0</td>\n",
              "      <td>700.0</td>\n",
              "      <td>0.0</td>\n",
              "      <td>1.0</td>\n",
              "      <td>1</td>\n",
              "      <td>0.0</td>\n",
              "      <td>0.0</td>\n",
              "      <td>189699.0</td>\n",
              "      <td>10827.0</td>\n",
              "      <td>2081.0</td>\n",
              "      <td>12</td>\n",
              "      <td>8</td>\n",
              "      <td>2000</td>\n",
              "      <td>6</td>\n",
              "      <td>3</td>\n",
              "      <td>2019</td>\n",
              "    </tr>\n",
              "    <tr>\n",
              "      <th>3</th>\n",
              "      <td>35000.0</td>\n",
              "      <td>14.85</td>\n",
              "      <td>10</td>\n",
              "      <td>110000.0</td>\n",
              "      <td>0</td>\n",
              "      <td>17.06</td>\n",
              "      <td>0.0</td>\n",
              "      <td>785.0</td>\n",
              "      <td>0.0</td>\n",
              "      <td>13.0</td>\n",
              "      <td>0.0</td>\n",
              "      <td>7802.0</td>\n",
              "      <td>11.6</td>\n",
              "      <td>17.0</td>\n",
              "      <td>1</td>\n",
              "      <td>0.0</td>\n",
              "      <td>829.90</td>\n",
              "      <td>679.0</td>\n",
              "      <td>675.0</td>\n",
              "      <td>0.0</td>\n",
              "      <td>1.0</td>\n",
              "      <td>0</td>\n",
              "      <td>0.0</td>\n",
              "      <td>0.0</td>\n",
              "      <td>301500.0</td>\n",
              "      <td>12609.0</td>\n",
              "      <td>6987.0</td>\n",
              "      <td>12</td>\n",
              "      <td>9</td>\n",
              "      <td>2008</td>\n",
              "      <td>2</td>\n",
              "      <td>3</td>\n",
              "      <td>2019</td>\n",
              "    </tr>\n",
              "    <tr>\n",
              "      <th>4</th>\n",
              "      <td>10400.0</td>\n",
              "      <td>22.45</td>\n",
              "      <td>3</td>\n",
              "      <td>104433.0</td>\n",
              "      <td>0</td>\n",
              "      <td>25.37</td>\n",
              "      <td>1.0</td>\n",
              "      <td>695.0</td>\n",
              "      <td>3.0</td>\n",
              "      <td>12.0</td>\n",
              "      <td>0.0</td>\n",
              "      <td>21929.0</td>\n",
              "      <td>64.5</td>\n",
              "      <td>35.0</td>\n",
              "      <td>1</td>\n",
              "      <td>0.0</td>\n",
              "      <td>10128.96</td>\n",
              "      <td>704.0</td>\n",
              "      <td>700.0</td>\n",
              "      <td>0.0</td>\n",
              "      <td>1.0</td>\n",
              "      <td>0</td>\n",
              "      <td>0.0</td>\n",
              "      <td>0.0</td>\n",
              "      <td>331730.0</td>\n",
              "      <td>73839.0</td>\n",
              "      <td>9702.0</td>\n",
              "      <td>12</td>\n",
              "      <td>6</td>\n",
              "      <td>1998</td>\n",
              "      <td>7</td>\n",
              "      <td>3</td>\n",
              "      <td>2018</td>\n",
              "    </tr>\n",
              "  </tbody>\n",
              "</table>\n",
              "</div>"
            ],
            "text/plain": [
              "   funded_amnt_inv  int_rate  emp_length  annual_inc  pymnt_plan    dti  \\\n",
              "0           3600.0     13.99          10     55000.0           0   5.91   \n",
              "1          24700.0     11.99          10     65000.0           0  16.06   \n",
              "2          20000.0     10.78          10     63000.0           0  10.78   \n",
              "3          35000.0     14.85          10    110000.0           0  17.06   \n",
              "4          10400.0     22.45           3    104433.0           0  25.37   \n",
              "\n",
              "   deling_2yrs  fico_range_low  ing_last_6mths  open_acc  pub_rec  revol_bal  \\\n",
              "0          0.0           675.0             1.0       7.0      0.0     2765.0   \n",
              "1          1.0           715.0             4.0      22.0      0.0    21470.0   \n",
              "2          0.0           695.0             0.0       6.0      0.0     7869.0   \n",
              "3          0.0           785.0             0.0      13.0      0.0     7802.0   \n",
              "4          1.0           695.0             3.0      12.0      0.0    21929.0   \n",
              "\n",
              "   revol_util  total_acc  initial_list_status  total_rec_late_fee  \\\n",
              "0        29.7       13.0                    1                 0.0   \n",
              "1        19.2       38.0                    1                 0.0   \n",
              "2        56.2       18.0                    1                 0.0   \n",
              "3        11.6       17.0                    1                 0.0   \n",
              "4        64.5       35.0                    1                 0.0   \n",
              "\n",
              "   last_pymnt_amnt  last_fico_range_high  last_fico_range_low  \\\n",
              "0           122.67                 564.0                560.0   \n",
              "1           926.35                 699.0                695.0   \n",
              "2         15813.30                 704.0                700.0   \n",
              "3           829.90                 679.0                675.0   \n",
              "4         10128.96                 704.0                700.0   \n",
              "\n",
              "   collections_12_mths_ex_med  policy_code  application_type  acc_now_dealing  \\\n",
              "0                         0.0          1.0                 0              0.0   \n",
              "1                         0.0          1.0                 0              0.0   \n",
              "2                         0.0          1.0                 1              0.0   \n",
              "3                         0.0          1.0                 0              0.0   \n",
              "4                         0.0          1.0                 0              0.0   \n",
              "\n",
              "   tot_coll_amt  tot_cur_bal  total_bal_il  max_bal_bc  issue_d_month  \\\n",
              "0         722.0     144904.0        4981.0       722.0             12   \n",
              "1           0.0     204396.0       18005.0      6472.0             12   \n",
              "2           0.0     189699.0       10827.0      2081.0             12   \n",
              "3           0.0     301500.0       12609.0      6987.0             12   \n",
              "4           0.0     331730.0       73839.0      9702.0             12   \n",
              "\n",
              "   earliest_cr_line_month  earliest_cr_line_year  last_pymnt_d_month  \\\n",
              "0                       8                   2003                   1   \n",
              "1                      12                   1999                   6   \n",
              "2                       8                   2000                   6   \n",
              "3                       9                   2008                   2   \n",
              "4                       6                   1998                   7   \n",
              "\n",
              "   last_credit_pull_d_month  last_credit_pull_d_year  \n",
              "0                         3                     2019  \n",
              "1                         3                     2019  \n",
              "2                         3                     2019  \n",
              "3                         3                     2019  \n",
              "4                         3                     2018  "
            ]
          },
          "metadata": {
            "tags": []
          },
          "execution_count": 70
        }
      ]
    },
    {
      "cell_type": "markdown",
      "metadata": {
        "id": "8xxWed1RlDQR"
      },
      "source": [
        "# ***Logistic Regression-***"
      ],
      "id": "8xxWed1RlDQR"
    },
    {
      "cell_type": "markdown",
      "metadata": {
        "id": "5b323e66"
      },
      "source": [
        "# MODEL VALIDATION"
      ],
      "id": "5b323e66"
    },
    {
      "cell_type": "markdown",
      "metadata": {
        "id": "79d6a3ed"
      },
      "source": [
        "# Splitting our Data "
      ],
      "id": "79d6a3ed"
    },
    {
      "cell_type": "code",
      "metadata": {
        "id": "4ea9bc70"
      },
      "source": [
        "from sklearn.model_selection import train_test_split\n",
        "# split data into training and validation data, for both features and target\n",
        "train_X, test_X, train_y, test_y = train_test_split(X, y, test_size= 0.2, random_state=1)"
      ],
      "id": "4ea9bc70",
      "execution_count": 71,
      "outputs": []
    },
    {
      "cell_type": "code",
      "metadata": {
        "colab": {
          "base_uri": "https://localhost:8080/"
        },
        "id": "59ac72d2",
        "outputId": "26220ef4-de64-4ab6-b87d-e7f9a2be8f9b"
      },
      "source": [
        "print( train_X.shape, test_X.shape, train_y.shape, test_y.shape)"
      ],
      "id": "59ac72d2",
      "execution_count": 72,
      "outputs": [
        {
          "output_type": "stream",
          "text": [
            "(1609450, 33) (402363, 33) (1609450,) (402363,)\n"
          ],
          "name": "stdout"
        }
      ]
    },
    {
      "cell_type": "markdown",
      "metadata": {
        "id": "67b40832"
      },
      "source": [
        "# FEATURE SCALING "
      ],
      "id": "67b40832"
    },
    {
      "cell_type": "markdown",
      "metadata": {
        "id": "001e8186"
      },
      "source": [
        "\n",
        "Standardisation"
      ],
      "id": "001e8186"
    },
    {
      "cell_type": "code",
      "metadata": {
        "id": "161a1e78"
      },
      "source": [
        "from sklearn.preprocessing import StandardScaler\n",
        "ss = StandardScaler()\n",
        "train_X = ss.fit_transform(train_X)\n",
        "test_X = ss.fit_transform(test_X)"
      ],
      "id": "161a1e78",
      "execution_count": 73,
      "outputs": []
    },
    {
      "cell_type": "markdown",
      "metadata": {
        "id": "bcc44ac7"
      },
      "source": [
        "# Specify and Fit the Model"
      ],
      "id": "bcc44ac7"
    },
    {
      "cell_type": "code",
      "metadata": {
        "id": "1b19cbdb"
      },
      "source": [
        "from sklearn.linear_model import LogisticRegression\n",
        "\n",
        "# Defining model\n",
        "accepted_model = LogisticRegression(penalty='none')"
      ],
      "id": "1b19cbdb",
      "execution_count": 74,
      "outputs": []
    },
    {
      "cell_type": "code",
      "metadata": {
        "colab": {
          "base_uri": "https://localhost:8080/"
        },
        "id": "1f4afc99",
        "outputId": "82e397dc-7d39-490a-b6a5-1cd08dbf8b9c"
      },
      "source": [
        "# Fitting model\n",
        "accepted_model.fit(train_X, train_y)"
      ],
      "id": "1f4afc99",
      "execution_count": 75,
      "outputs": [
        {
          "output_type": "execute_result",
          "data": {
            "text/plain": [
              "LogisticRegression(C=1.0, class_weight=None, dual=False, fit_intercept=True,\n",
              "                   intercept_scaling=1, l1_ratio=None, max_iter=100,\n",
              "                   multi_class='auto', n_jobs=None, penalty='none',\n",
              "                   random_state=None, solver='lbfgs', tol=0.0001, verbose=0,\n",
              "                   warm_start=False)"
            ]
          },
          "metadata": {
            "tags": []
          },
          "execution_count": 75
        }
      ]
    },
    {
      "cell_type": "markdown",
      "metadata": {
        "id": "c91e3af3"
      },
      "source": [
        "# Make Predictions with Validation data"
      ],
      "id": "c91e3af3"
    },
    {
      "cell_type": "code",
      "metadata": {
        "id": "846a3067"
      },
      "source": [
        "val_predictions = accepted_model.predict(test_X)"
      ],
      "id": "846a3067",
      "execution_count": 76,
      "outputs": []
    },
    {
      "cell_type": "code",
      "metadata": {
        "colab": {
          "base_uri": "https://localhost:8080/"
        },
        "id": "744bee8c",
        "outputId": "b9af7c7b-0822-4119-a9f4-39bc8bc80242"
      },
      "source": [
        "print(\"length is :\", len(val_predictions))"
      ],
      "id": "744bee8c",
      "execution_count": 77,
      "outputs": [
        {
          "output_type": "stream",
          "text": [
            "length is : 402363\n"
          ],
          "name": "stdout"
        }
      ]
    },
    {
      "cell_type": "code",
      "metadata": {
        "colab": {
          "base_uri": "https://localhost:8080/"
        },
        "id": "c36aedde",
        "outputId": "c7fc1db0-cc2b-4a90-8262-766a23b4146f"
      },
      "source": [
        "val_predictions"
      ],
      "id": "c36aedde",
      "execution_count": 78,
      "outputs": [
        {
          "output_type": "execute_result",
          "data": {
            "text/plain": [
              "array([3, 3, 1, ..., 7, 1, 4])"
            ]
          },
          "metadata": {
            "tags": []
          },
          "execution_count": 78
        }
      ]
    },
    {
      "cell_type": "code",
      "metadata": {
        "colab": {
          "base_uri": "https://localhost:8080/",
          "height": 417
        },
        "id": "aee83e7a",
        "outputId": "c1b1c0f7-8ecd-4936-d347-0fce799fdc88"
      },
      "source": [
        "# Comparing Actual Data vs Predicted Data\n",
        "compare_grades = pd.DataFrame({'Actual':test_y, 'Predicted':val_predictions})\n",
        "compare_grades"
      ],
      "id": "aee83e7a",
      "execution_count": 80,
      "outputs": [
        {
          "output_type": "execute_result",
          "data": {
            "text/html": [
              "<div>\n",
              "<style scoped>\n",
              "    .dataframe tbody tr th:only-of-type {\n",
              "        vertical-align: middle;\n",
              "    }\n",
              "\n",
              "    .dataframe tbody tr th {\n",
              "        vertical-align: top;\n",
              "    }\n",
              "\n",
              "    .dataframe thead th {\n",
              "        text-align: right;\n",
              "    }\n",
              "</style>\n",
              "<table border=\"1\" class=\"dataframe\">\n",
              "  <thead>\n",
              "    <tr style=\"text-align: right;\">\n",
              "      <th></th>\n",
              "      <th>Actual</th>\n",
              "      <th>Predicted</th>\n",
              "    </tr>\n",
              "  </thead>\n",
              "  <tbody>\n",
              "    <tr>\n",
              "      <th>2001991</th>\n",
              "      <td>3</td>\n",
              "      <td>3</td>\n",
              "    </tr>\n",
              "    <tr>\n",
              "      <th>1187606</th>\n",
              "      <td>3</td>\n",
              "      <td>3</td>\n",
              "    </tr>\n",
              "    <tr>\n",
              "      <th>274570</th>\n",
              "      <td>1</td>\n",
              "      <td>1</td>\n",
              "    </tr>\n",
              "    <tr>\n",
              "      <th>1114314</th>\n",
              "      <td>2</td>\n",
              "      <td>2</td>\n",
              "    </tr>\n",
              "    <tr>\n",
              "      <th>1747536</th>\n",
              "      <td>3</td>\n",
              "      <td>3</td>\n",
              "    </tr>\n",
              "    <tr>\n",
              "      <th>...</th>\n",
              "      <td>...</td>\n",
              "      <td>...</td>\n",
              "    </tr>\n",
              "    <tr>\n",
              "      <th>352134</th>\n",
              "      <td>1</td>\n",
              "      <td>1</td>\n",
              "    </tr>\n",
              "    <tr>\n",
              "      <th>75784</th>\n",
              "      <td>2</td>\n",
              "      <td>2</td>\n",
              "    </tr>\n",
              "    <tr>\n",
              "      <th>1114297</th>\n",
              "      <td>7</td>\n",
              "      <td>7</td>\n",
              "    </tr>\n",
              "    <tr>\n",
              "      <th>1385065</th>\n",
              "      <td>1</td>\n",
              "      <td>1</td>\n",
              "    </tr>\n",
              "    <tr>\n",
              "      <th>554744</th>\n",
              "      <td>4</td>\n",
              "      <td>4</td>\n",
              "    </tr>\n",
              "  </tbody>\n",
              "</table>\n",
              "<p>402363 rows × 2 columns</p>\n",
              "</div>"
            ],
            "text/plain": [
              "         Actual  Predicted\n",
              "2001991       3          3\n",
              "1187606       3          3\n",
              "274570        1          1\n",
              "1114314       2          2\n",
              "1747536       3          3\n",
              "...         ...        ...\n",
              "352134        1          1\n",
              "75784         2          2\n",
              "1114297       7          7\n",
              "1385065       1          1\n",
              "554744        4          4\n",
              "\n",
              "[402363 rows x 2 columns]"
            ]
          },
          "metadata": {
            "tags": []
          },
          "execution_count": 80
        }
      ]
    },
    {
      "cell_type": "markdown",
      "metadata": {
        "id": "48297d77"
      },
      "source": [
        "# MODEL EVALUATION"
      ],
      "id": "48297d77"
    },
    {
      "cell_type": "code",
      "metadata": {
        "id": "7757ce6d"
      },
      "source": [
        "from sklearn.metrics import confusion_matrix, accuracy_score, classification_report,  r2_score,mean_squared_error, mean_absolute_error"
      ],
      "id": "7757ce6d",
      "execution_count": 81,
      "outputs": []
    },
    {
      "cell_type": "code",
      "metadata": {
        "colab": {
          "base_uri": "https://localhost:8080/"
        },
        "id": "288dcd6b",
        "outputId": "4c9f29cf-4bc2-433c-8192-e81f28b9353e"
      },
      "source": [
        "confusion = confusion_matrix(test_y, val_predictions)\n",
        "print(\" \\n Confusion Matrix is : \\n\", confusion)"
      ],
      "id": "288dcd6b",
      "execution_count": 82,
      "outputs": [
        {
          "output_type": "stream",
          "text": [
            " \n",
            " Confusion Matrix is : \n",
            " [[ 75164   4130      0      0      0      0      0]\n",
            " [  5790 104748   7634      0      0      0      0]\n",
            " [    40   6797 103943   4557      0      0      0]\n",
            " [    27      0   6241  46520   3971      1      0]\n",
            " [     8      0      1   7646  14261   1472      0]\n",
            " [     6      0      0     13   3353   3380    534]\n",
            " [     1      0      0      0    108   1320    697]]\n"
          ],
          "name": "stdout"
        }
      ]
    },
    {
      "cell_type": "code",
      "metadata": {
        "colab": {
          "base_uri": "https://localhost:8080/",
          "height": 342
        },
        "id": "798215a7",
        "outputId": "ed5f71f3-5aee-4f68-a049-eb9c6cd0829a"
      },
      "source": [
        "fig, ax = plt.subplots()\n",
        "# create heatmap\n",
        "sns.heatmap(confusion, annot=True, fmt='d', cmap='YlGnBu')\n",
        "ax.xaxis.set_label_position(\"top\")\n",
        "plt.tight_layout()\n",
        "plt.title('Confusion matrix', y=1.1)\n",
        "plt.ylabel('Actual label')\n",
        "plt.xlabel('Predicted label')"
      ],
      "id": "798215a7",
      "execution_count": 83,
      "outputs": [
        {
          "output_type": "execute_result",
          "data": {
            "text/plain": [
              "Text(0.5, 257.44, 'Predicted label')"
            ]
          },
          "metadata": {
            "tags": []
          },
          "execution_count": 83
        },
        {
          "output_type": "display_data",
          "data": {
            "image/png": "[encoded data removed]",
            "text/plain": [
              "<Figure size 432x288 with 2 Axes>"
            ]
          },
          "metadata": {
            "tags": [],
            "needs_background": "light"
          }
        }
      ]
    },
    {
      "cell_type": "code",
      "metadata": {
        "id": "b5c7b5b1"
      },
      "source": [
        "accuracy = accuracy_score(test_y, val_predictions)"
      ],
      "id": "b5c7b5b1",
      "execution_count": 84,
      "outputs": []
    },
    {
      "cell_type": "code",
      "metadata": {
        "id": "e38cf172"
      },
      "source": [
        "r2 = r2_score(test_y,val_predictions)"
      ],
      "id": "e38cf172",
      "execution_count": 85,
      "outputs": []
    },
    {
      "cell_type": "code",
      "metadata": {
        "id": "b9152ede"
      },
      "source": [
        "report = classification_report(test_y, val_predictions)"
      ],
      "id": "b9152ede",
      "execution_count": 86,
      "outputs": []
    },
    {
      "cell_type": "code",
      "metadata": {
        "id": "17817681"
      },
      "source": [
        "MSE = mean_squared_error(test_y, val_predictions)"
      ],
      "id": "17817681",
      "execution_count": 87,
      "outputs": []
    },
    {
      "cell_type": "code",
      "metadata": {
        "id": "e00cdee1"
      },
      "source": [
        "RMSE = np.sqrt(mean_squared_error(test_y, val_predictions))"
      ],
      "id": "e00cdee1",
      "execution_count": 88,
      "outputs": []
    },
    {
      "cell_type": "code",
      "metadata": {
        "id": "1b0513df"
      },
      "source": [
        "MAE = np.sqrt(mean_absolute_error(test_y, val_predictions))"
      ],
      "id": "1b0513df",
      "execution_count": 89,
      "outputs": []
    },
    {
      "cell_type": "code",
      "metadata": {
        "colab": {
          "base_uri": "https://localhost:8080/"
        },
        "id": "65fe9afa",
        "outputId": "8b22f180-ce6a-4af2-f265-822e8d3beb50"
      },
      "source": [
        "print(\" Accuracy Score is : \", accuracy)\n",
        "\n",
        "print(\" \\n R2 score is :-\", r2)\n",
        "\n",
        "print(\" \\n Classification Report is : \\n\", report)\n",
        "\n",
        "print(\" \\n Mean Squared Error is : \", MSE)\n",
        "\n",
        "print(\" \\n Root Mean Squared Error is : \", RMSE)\n",
        "\n",
        "print(\" \\n Mean Absolute Error is : \", MAE)   "
      ],
      "id": "65fe9afa",
      "execution_count": 90,
      "outputs": [
        {
          "output_type": "stream",
          "text": [
            " Accuracy Score is :  0.8666626901578922\n",
            " \n",
            " R2 score is :- 0.913866383227933\n",
            " \n",
            " Classification Report is : \n",
            "               precision    recall  f1-score   support\n",
            "\n",
            "           1       0.93      0.95      0.94     79294\n",
            "           2       0.91      0.89      0.90    118172\n",
            "           3       0.88      0.90      0.89    115337\n",
            "           4       0.79      0.82      0.81     56760\n",
            "           5       0.66      0.61      0.63     23388\n",
            "           6       0.55      0.46      0.50      7286\n",
            "           7       0.57      0.33      0.42      2126\n",
            "\n",
            "    accuracy                           0.87    402363\n",
            "   macro avg       0.75      0.71      0.73    402363\n",
            "weighted avg       0.86      0.87      0.87    402363\n",
            "\n",
            " \n",
            " Mean Squared Error is :  0.13583256909805325\n",
            " \n",
            " Root Mean Squared Error is :  0.36855470299272164\n",
            " \n",
            " Mean Absolute Error is :  0.36607150353146894\n"
          ],
          "name": "stdout"
        }
      ]
    },
    {
      "cell_type": "markdown",
      "metadata": {
        "id": "d991caec"
      },
      "source": [
        "Small value of Mean Absolute Error states that the probability of wrong prediction is very low"
      ],
      "id": "d991caec"
    },
    {
      "cell_type": "code",
      "metadata": {
        "colab": {
          "base_uri": "https://localhost:8080/"
        },
        "id": "8ea86aae",
        "outputId": "9441776f-957f-49e3-a4e0-6a6b64856209"
      },
      "source": [
        "grade=accepted_data['grade'].unique()\n",
        "len(grade)"
      ],
      "id": "8ea86aae",
      "execution_count": 91,
      "outputs": [
        {
          "output_type": "execute_result",
          "data": {
            "text/plain": [
              "7"
            ]
          },
          "metadata": {
            "tags": []
          },
          "execution_count": 91
        }
      ]
    },
    {
      "cell_type": "code",
      "metadata": {
        "colab": {
          "base_uri": "https://localhost:8080/",
          "height": 621
        },
        "id": "72734764",
        "outputId": "8c6c87fe-2b6e-4c62-841e-5359bb944988"
      },
      "source": [
        "from sklearn.metrics import roc_curve\n",
        "from sklearn.metrics import roc_auc_score\n",
        "# Get class probability scores\n",
        "grade_prob = accepted_model.predict_proba(test_X)\n",
        "\n",
        "# Get ROC metrics for each class\n",
        "fpr = {}\n",
        "tpr = {}\n",
        "thresh ={}\n",
        "for i in range(len(grade)):\n",
        "  fpr[i], tpr[i], thresh[i] = roc_curve(test_y, grade_prob[:,i], pos_label=i) \n",
        "\n",
        "# Plot the ROC chart\n",
        "plt.figure(figsize=(10,10))\n",
        "plt.plot(fpr[0], tpr[0],color='orange', label=str(grade[0]) + ' vs Rest')\n",
        "plt.plot(fpr[1], tpr[1],color='green', label=str(grade[1]) + ' vs Rest')\n",
        "plt.plot(fpr[2], tpr[2],color='blue', label=str(grade[2]) + ' vs Rest')\n",
        "plt.plot(fpr[3], tpr[3],color='red', label=str(grade[3]) + ' vs Rest')\n",
        "plt.plot(fpr[4], tpr[4],color='yellow', label=str(grade[4]) + ' vs Rest')\n",
        "plt.plot(fpr[5], tpr[5],color='pink', label=str(grade[5]) + ' vs Rest')\n",
        "plt.plot(fpr[6], tpr[6],color='cyan', label=str(grade[6]) + ' vs Rest')\n",
        "plt.title('Multiclass ROC curve')\n",
        "plt.xlabel('False Positive Rate')\n",
        "plt.ylabel('True Positive rate')\n",
        "plt.legend(loc='best')\n",
        "plt.show()\n"
      ],
      "id": "72734764",
      "execution_count": 94,
      "outputs": [
        {
          "output_type": "display_data",
          "data": {
            "image/png": "[encoded data removed]",
            "text/plain": [
              "<Figure size 720x720 with 1 Axes>"
            ]
          },
          "metadata": {
            "tags": [],
            "needs_background": "light"
          }
        }
      ]
    },
    {
      "cell_type": "code",
      "metadata": {
        "colab": {
          "base_uri": "https://localhost:8080/"
        },
        "id": "9adb8ae7",
        "outputId": "957abe7a-e368-4b69-abdf-a202d3515034"
      },
      "source": [
        "roc_auc = roc_auc_score(test_y, grade_prob, multi_class=('ovr'))\n",
        "print(\" \\n AUC using ROC is : \", roc_auc)"
      ],
      "id": "9adb8ae7",
      "execution_count": 96,
      "outputs": [
        {
          "output_type": "stream",
          "text": [
            " \n",
            " AUC using ROC is :  0.9865396293036989\n"
          ],
          "name": "stdout"
        }
      ]
    },
    {
      "cell_type": "markdown",
      "metadata": {
        "id": "z2HZoetXfKS1"
      },
      "source": [
        "# ***Neural Networks-***"
      ],
      "id": "z2HZoetXfKS1"
    },
    {
      "cell_type": "code",
      "metadata": {
        "id": "02293eab"
      },
      "source": [
        "import pandas as pd\n",
        "import seaborn as sns\n",
        "import numpy as np\n",
        "\n",
        "from sklearn.preprocessing import LabelEncoder\n",
        "\n",
        "from keras.models import Sequential\n",
        "from keras.layers import Dense, Dropout\n",
        "from sklearn.model_selection import train_test_split\n",
        "from keras.callbacks import EarlyStopping\n",
        "import tensorflow as tf\n",
        "from tensorflow import keras"
      ],
      "id": "02293eab",
      "execution_count": 97,
      "outputs": []
    },
    {
      "cell_type": "code",
      "metadata": {
        "colab": {
          "base_uri": "https://localhost:8080/"
        },
        "id": "4baaed68",
        "outputId": "3e873635-48a6-4357-abff-ebde5d6f990b"
      },
      "source": [
        "classifier = Sequential()\n",
        "classifier.add(Dense(units = 32, kernel_initializer = 'uniform', activation = 'relu', input_dim = 33))\n",
        "classifier.add(Dense(units = 12, kernel_initializer = 'uniform', activation = 'relu'))\n",
        "classifier.add(Dense(units = 1, kernel_initializer = 'uniform', activation = 'relu'))\n",
        "classifier.compile(optimizer = 'adam', loss = 'mean_squared_error', metrics = ['accuracy'])\n",
        "classifier.fit(train_X, train_y, batch_size =128 , epochs = 10, validation_split=0.2)"
      ],
      "id": "4baaed68",
      "execution_count": 100,
      "outputs": [
        {
          "output_type": "stream",
          "text": [
            "Epoch 1/10\n",
            "10060/10060 [==============================] - 33s 2ms/step - loss: 0.5303 - accuracy: 0.1871 - val_loss: 0.1232 - val_accuracy: 0.1961\n",
            "Epoch 2/10\n",
            "10060/10060 [==============================] - 17s 2ms/step - loss: 0.1174 - accuracy: 0.1967 - val_loss: 0.1109 - val_accuracy: 0.1961\n",
            "Epoch 3/10\n",
            "10060/10060 [==============================] - 16s 2ms/step - loss: 0.1096 - accuracy: 0.1962 - val_loss: 0.1076 - val_accuracy: 0.1961\n",
            "Epoch 4/10\n",
            "10060/10060 [==============================] - 17s 2ms/step - loss: 0.1046 - accuracy: 0.1961 - val_loss: 0.1045 - val_accuracy: 0.1961\n",
            "Epoch 5/10\n",
            "10060/10060 [==============================] - 17s 2ms/step - loss: 0.1023 - accuracy: 0.1954 - val_loss: 0.0952 - val_accuracy: 0.1961\n",
            "Epoch 6/10\n",
            "10060/10060 [==============================] - 17s 2ms/step - loss: 0.0955 - accuracy: 0.1963 - val_loss: 0.0950 - val_accuracy: 0.1961\n",
            "Epoch 7/10\n",
            "10060/10060 [==============================] - 17s 2ms/step - loss: 0.0898 - accuracy: 0.1961 - val_loss: 0.0877 - val_accuracy: 0.1961\n",
            "Epoch 8/10\n",
            "10060/10060 [==============================] - 17s 2ms/step - loss: 0.0873 - accuracy: 0.1969 - val_loss: 0.0861 - val_accuracy: 0.1961\n",
            "Epoch 9/10\n",
            "10060/10060 [==============================] - 17s 2ms/step - loss: 0.0863 - accuracy: 0.1962 - val_loss: 0.0847 - val_accuracy: 0.1961\n",
            "Epoch 10/10\n",
            "10060/10060 [==============================] - 17s 2ms/step - loss: 0.0842 - accuracy: 0.1960 - val_loss: 0.0820 - val_accuracy: 0.1961\n"
          ],
          "name": "stdout"
        },
        {
          "output_type": "execute_result",
          "data": {
            "text/plain": [
              "<keras.callbacks.History at 0x7fa12695f2d0>"
            ]
          },
          "metadata": {
            "tags": []
          },
          "execution_count": 100
        }
      ]
    },
    {
      "cell_type": "code",
      "metadata": {
        "id": "5c765af1"
      },
      "source": [
        "val_predictions = classifier.predict(test_X)"
      ],
      "id": "5c765af1",
      "execution_count": 101,
      "outputs": []
    },
    {
      "cell_type": "code",
      "metadata": {
        "id": "a8fdecce"
      },
      "source": [
        "val_predictions=val_predictions.round().astype(int)"
      ],
      "id": "a8fdecce",
      "execution_count": 102,
      "outputs": []
    },
    {
      "cell_type": "code",
      "metadata": {
        "colab": {
          "base_uri": "https://localhost:8080/",
          "height": 417
        },
        "id": "0853d532",
        "outputId": "406a5d35-005d-4682-da71-3438da8efb44"
      },
      "source": [
        "compare_grades = pd.DataFrame({'Actual':test_y.tolist(), 'Predicted':val_predictions.tolist()})\n",
        "compare_grades"
      ],
      "id": "0853d532",
      "execution_count": 103,
      "outputs": [
        {
          "output_type": "execute_result",
          "data": {
            "text/html": [
              "<div>\n",
              "<style scoped>\n",
              "    .dataframe tbody tr th:only-of-type {\n",
              "        vertical-align: middle;\n",
              "    }\n",
              "\n",
              "    .dataframe tbody tr th {\n",
              "        vertical-align: top;\n",
              "    }\n",
              "\n",
              "    .dataframe thead th {\n",
              "        text-align: right;\n",
              "    }\n",
              "</style>\n",
              "<table border=\"1\" class=\"dataframe\">\n",
              "  <thead>\n",
              "    <tr style=\"text-align: right;\">\n",
              "      <th></th>\n",
              "      <th>Actual</th>\n",
              "      <th>Predicted</th>\n",
              "    </tr>\n",
              "  </thead>\n",
              "  <tbody>\n",
              "    <tr>\n",
              "      <th>0</th>\n",
              "      <td>3</td>\n",
              "      <td>[3]</td>\n",
              "    </tr>\n",
              "    <tr>\n",
              "      <th>1</th>\n",
              "      <td>3</td>\n",
              "      <td>[4]</td>\n",
              "    </tr>\n",
              "    <tr>\n",
              "      <th>2</th>\n",
              "      <td>1</td>\n",
              "      <td>[1]</td>\n",
              "    </tr>\n",
              "    <tr>\n",
              "      <th>3</th>\n",
              "      <td>2</td>\n",
              "      <td>[2]</td>\n",
              "    </tr>\n",
              "    <tr>\n",
              "      <th>4</th>\n",
              "      <td>3</td>\n",
              "      <td>[3]</td>\n",
              "    </tr>\n",
              "    <tr>\n",
              "      <th>...</th>\n",
              "      <td>...</td>\n",
              "      <td>...</td>\n",
              "    </tr>\n",
              "    <tr>\n",
              "      <th>402358</th>\n",
              "      <td>1</td>\n",
              "      <td>[1]</td>\n",
              "    </tr>\n",
              "    <tr>\n",
              "      <th>402359</th>\n",
              "      <td>2</td>\n",
              "      <td>[2]</td>\n",
              "    </tr>\n",
              "    <tr>\n",
              "      <th>402360</th>\n",
              "      <td>7</td>\n",
              "      <td>[6]</td>\n",
              "    </tr>\n",
              "    <tr>\n",
              "      <th>402361</th>\n",
              "      <td>1</td>\n",
              "      <td>[1]</td>\n",
              "    </tr>\n",
              "    <tr>\n",
              "      <th>402362</th>\n",
              "      <td>4</td>\n",
              "      <td>[4]</td>\n",
              "    </tr>\n",
              "  </tbody>\n",
              "</table>\n",
              "<p>402363 rows × 2 columns</p>\n",
              "</div>"
            ],
            "text/plain": [
              "        Actual Predicted\n",
              "0            3       [3]\n",
              "1            3       [4]\n",
              "2            1       [1]\n",
              "3            2       [2]\n",
              "4            3       [3]\n",
              "...        ...       ...\n",
              "402358       1       [1]\n",
              "402359       2       [2]\n",
              "402360       7       [6]\n",
              "402361       1       [1]\n",
              "402362       4       [4]\n",
              "\n",
              "[402363 rows x 2 columns]"
            ]
          },
          "metadata": {
            "tags": []
          },
          "execution_count": 103
        }
      ]
    },
    {
      "cell_type": "code",
      "metadata": {
        "colab": {
          "base_uri": "https://localhost:8080/"
        },
        "id": "6e5dc83c",
        "outputId": "914fe099-07b1-4c50-a3f7-1dff001c40ee"
      },
      "source": [
        "from sklearn import metrics\n",
        "print(\" The accuracy of Neural Networks is :\", metrics.accuracy_score(val_predictions,test_y))"
      ],
      "id": "6e5dc83c",
      "execution_count": 105,
      "outputs": [
        {
          "output_type": "stream",
          "text": [
            " The accuracy of Neural Networks is : 0.8953034946056173\n"
          ],
          "name": "stdout"
        }
      ]
    },
    {
      "cell_type": "code",
      "metadata": {
        "id": "91d6aebe"
      },
      "source": [
        ""
      ],
      "id": "91d6aebe",
      "execution_count": null,
      "outputs": []
    }
  ]
}
